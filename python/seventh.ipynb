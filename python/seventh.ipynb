{
 "cells": [
  {
   "cell_type": "code",
   "execution_count": 1,
   "id": "3c8af0c6",
   "metadata": {},
   "outputs": [],
   "source": [
    "import json\n",
    "import datetime\n",
    "import os\n",
    "\n",
    "#KAKAO_MY_TOKEN_SAVED_FILE = \"kakao_msg/kakao_token.json\"\n",
    "\n",
    "def load_tokens(filename):\n",
    "    with open(filename) as fp:\n",
    "        tokens = json.load(fp)\n",
    "        \n",
    "    return tokens\n",
    "\n",
    "#tokens = load_tokens(KAKAO_TOKEN_SAVED_FILE)"
   ]
  },
  {
   "cell_type": "code",
   "execution_count": 2,
   "id": "9aaaa734",
   "metadata": {},
   "outputs": [],
   "source": [
    "KAKAO_FRIEND_TOKEN_SAVED_FILE = \"kakao_msg/kakao_friend_token.json\"\n",
    "\n",
    "def save_tokens(filename, tokens):\n",
    "    with open(filename, \"w\") as fp:\n",
    "        json.dump(tokens, fp)"
   ]
  },
  {
   "cell_type": "code",
   "execution_count": 6,
   "id": "c67c3df0",
   "metadata": {},
   "outputs": [],
   "source": [
    "import requests\n",
    "\n",
    "#https://kauth.kakao.com/oauth/authorize?client_id=${REST_API_KEY}&redirect_uri=${REDIRECT_URI}&response_type=code&scope=account_email\n",
    "\n",
    "#https://kauth.kakao.com/oauth/authorize?client_id=559cf5dc26a9df776f0b704af116bee5&redirect_uri=https://localhost.com&response_type=code&scope=talk_message,friends\n",
    "#https://kauth.kakao.com/oauth/authorize?client_id=559cf5dc26a9df776f0b704af116bee5&redirect_uri=https://localhost.com&response_type=code&scope=talk_message,friends\n",
    "\n",
    "def load_tokens(filename):\n",
    "    with open(filename) as fp:\n",
    "        tokens = json.load(fp)\n",
    "        \n",
    "    return tokens"
   ]
  },
  {
   "cell_type": "code",
   "execution_count": 7,
   "id": "a0369b39",
   "metadata": {},
   "outputs": [
    {
     "name": "stdout",
     "output_type": "stream",
     "text": [
      "{'access_token': 'xhrWRC7-emnXLIKLgmSxP7hXYF3J5mZxDQV9gvPuCilw0QAAAYD02kkl', 'token_type': 'bearer', 'refresh_token': 'he8LVM_gvFNuzsV_6yE8kclt4y2Lgf5VuvQttGwuCilw0QAAAYD02kkk', 'expires_in': 21599, 'scope': 'talk_message friends', 'refresh_token_expires_in': 5183999}\n"
     ]
    },
    {
     "ename": "NameError",
     "evalue": "name 'json' is not defined",
     "output_type": "error",
     "traceback": [
      "\u001b[1;31m---------------------------------------------------------------------------\u001b[0m",
      "\u001b[1;31mNameError\u001b[0m                                 Traceback (most recent call last)",
      "\u001b[1;32m<ipython-input-7-21b8fb7eeb7e>\u001b[0m in \u001b[0;36m<module>\u001b[1;34m\u001b[0m\n\u001b[0;32m     25\u001b[0m     \u001b[0mprint\u001b[0m\u001b[1;33m(\u001b[0m\u001b[0mtokens\u001b[0m\u001b[1;33m)\u001b[0m\u001b[1;33m\u001b[0m\u001b[1;33m\u001b[0m\u001b[0m\n\u001b[0;32m     26\u001b[0m \u001b[1;33m\u001b[0m\u001b[0m\n\u001b[1;32m---> 27\u001b[1;33m \u001b[0msave_tokens\u001b[0m\u001b[1;33m(\u001b[0m\u001b[0mKAKAO_FRIEND_TOKEN_SAVED_FILE\u001b[0m\u001b[1;33m,\u001b[0m \u001b[0mtokens\u001b[0m\u001b[1;33m)\u001b[0m\u001b[1;33m\u001b[0m\u001b[1;33m\u001b[0m\u001b[0m\n\u001b[0m",
      "\u001b[1;32m<ipython-input-5-ae5dc3097f32>\u001b[0m in \u001b[0;36msave_tokens\u001b[1;34m(filename, tokens)\u001b[0m\n\u001b[0;32m      3\u001b[0m \u001b[1;32mdef\u001b[0m \u001b[0msave_tokens\u001b[0m\u001b[1;33m(\u001b[0m\u001b[0mfilename\u001b[0m\u001b[1;33m,\u001b[0m \u001b[0mtokens\u001b[0m\u001b[1;33m)\u001b[0m\u001b[1;33m:\u001b[0m\u001b[1;33m\u001b[0m\u001b[1;33m\u001b[0m\u001b[0m\n\u001b[0;32m      4\u001b[0m     \u001b[1;32mwith\u001b[0m \u001b[0mopen\u001b[0m\u001b[1;33m(\u001b[0m\u001b[0mfilename\u001b[0m\u001b[1;33m,\u001b[0m \u001b[1;34m\"w\"\u001b[0m\u001b[1;33m)\u001b[0m \u001b[1;32mas\u001b[0m \u001b[0mfp\u001b[0m\u001b[1;33m:\u001b[0m\u001b[1;33m\u001b[0m\u001b[1;33m\u001b[0m\u001b[0m\n\u001b[1;32m----> 5\u001b[1;33m         \u001b[0mjson\u001b[0m\u001b[1;33m.\u001b[0m\u001b[0mdump\u001b[0m\u001b[1;33m(\u001b[0m\u001b[0mtokens\u001b[0m\u001b[1;33m,\u001b[0m \u001b[0mfp\u001b[0m\u001b[1;33m)\u001b[0m\u001b[1;33m\u001b[0m\u001b[1;33m\u001b[0m\u001b[0m\n\u001b[0m",
      "\u001b[1;31mNameError\u001b[0m: name 'json' is not defined"
     ]
    }
   ],
   "source": [
    "import requests\n",
    "\n",
    "url = \"https://kauth.kakao.com/oauth/token\"\n",
    "\n",
    "#data = {\n",
    "#    \"grant_type\": \"authorization_code\",\n",
    "#    \"client_id\": \"YourRESTAPIKey\",\n",
    "#    \"redirect_uri\": \"https://localhost.com\",\n",
    "#    \"code\": \"https://kauth.kakao.com/oauth/authorize 블라블라 요청한 내용의 응답 code\"\n",
    "#}\n",
    "\n",
    "data = {\n",
    "    \"grant_type\": \"authorization_code\",\n",
    "    \"client_id\": \"\",\n",
    "    \"redirect_uri\": \"https://localhost.com\",\n",
    "    \"code\": \"\"\n",
    "}\n",
    "\n",
    "response = requests.post(url, data=data)\n",
    "\n",
    "if response.status_code != 200:\n",
    "    print(\"에러!!!\")\n",
    "else:\n",
    "    tokens = response.json()\n",
    "    print(tokens)\n",
    "    \n",
    "save_tokens(KAKAO_FRIEND_TOKEN_SAVED_FILE, tokens)"
   ]
  },
  {
   "cell_type": "code",
   "execution_count": 9,
   "id": "17e3027a",
   "metadata": {},
   "outputs": [],
   "source": [
    "save_tokens(KAKAO_FRIEND_TOKEN_SAVED_FILE, tokens)"
   ]
  },
  {
   "cell_type": "code",
   "execution_count": 17,
   "id": "2382e27e",
   "metadata": {},
   "outputs": [
    {
     "name": "stdout",
     "output_type": "stream",
     "text": [
      "<class 'dict'>\n",
      "{'elements': [{'profile_nickname': '노서현', 'profile_thumbnail_image': '', 'allowed_msg': True, 'id': 2255354633, 'uuid': '88Dxx_HA98D12e_Z6tru2-_a9sH1wvLF9Yk', 'favorite': False}, {'profile_nickname': '손현지', 'profile_thumbnail_image': 'https://p.kakaocdn.net/th/talkp/wkQRcF3RBe/IvKVjMGQrNrQZawa7kIPoK/qf1cxj_110x110_c.jpg', 'allowed_msg': True, 'id': 2255358601, 'uuid': '88DxxvTN_sb_0-XT4tbj1-XQ_Mv_yPjP_30', 'favorite': False}, {'profile_nickname': '아름', 'profile_thumbnail_image': '', 'allowed_msg': True, 'id': 2255350369, 'uuid': '88L0xvfF8cL2x-vY6tzr2u3Z693xxvLF9cLydA', 'favorite': False}, {'profile_nickname': '우수종', 'profile_thumbnail_image': '', 'allowed_msg': True, 'id': 2255365836, 'uuid': '88HywPbF9s_j0ubW4tTh1O3Y9MP3wPDH94I', 'favorite': False}, {'profile_nickname': '유아림', 'profile_thumbnail_image': 'https://p.kakaocdn.net/th/talkp/wm2UDq1JHA/7RhKLa2CwwfXj6SDUdzhyk/ukm606_110x110_c.jpg', 'allowed_msg': True, 'id': 2255354404, 'uuid': '88X8zf_L8sr51eTS4NPh1-fT6sbxxfLC9cW6', 'favorite': False}, {'profile_nickname': '이동혁', 'profile_thumbnail_image': '', 'allowed_msg': True, 'id': 2255353297, 'uuid': '88f2xPbO98P61ufe6Njg0efR5Mj_y_zM-8tP', 'favorite': False}, {'profile_nickname': '이상아', 'profile_thumbnail_image': 'https://p.kakaocdn.net/th/talkp/wmOjb3mS4t/bkWGh6FLyRosKFuOQVx3I1/qyr29e_110x110_c.jpg', 'allowed_msg': True, 'id': 2255358506, 'uuid': '88LxxvDE8MT22uvZ6dDn0uvc7cH2wvXF8sK1', 'favorite': False}, {'profile_nickname': '인지연', 'profile_thumbnail_image': 'https://p.kakaocdn.net/th/talkp/wm5GBEdd1g/7sKSnNr70skpMXum8DUev1/jj7dcn_110x110_c.jpg', 'allowed_msg': True, 'id': 2255345420, 'uuid': '88DzwfbB8sP22uvS4dPm0-XS4c36zvnJ_s6w', 'favorite': False}, {'profile_nickname': '지훈', 'profile_thumbnail_image': '', 'allowed_msg': True, 'id': 2255372262, 'uuid': '88TwxfDD89_u1u_c6dDl3fHG8sX1wvKC', 'favorite': False}, {'profile_nickname': '최영남', 'profile_thumbnail_image': 'https://p.kakaocdn.net/th/talkp/wmVZB7NLK6/F49DYe9Oj0Majz6sS29O8K/dnmias_110x110_c.jpg', 'allowed_msg': True, 'id': 2255373645, 'uuid': '88D2wvXF8sTz3-7a6N7q2Ojf88Twx_fA8Ig', 'favorite': False}], 'total_count': 11, 'after_url': 'https://kapi.kakao.com/v1/api/talk/friends?offset=10&limit=10&order=asc', 'favorite_count': 0}\n",
      "['88Dxx_HA98D12e_Z6tru2-_a9sH1wvLF9Yk', '88DxxvTN_sb_0-XT4tbj1-XQ_Mv_yPjP_30', '88L0xvfF8cL2x-vY6tzr2u3Z693xxvLF9cLydA', '88HywPbF9s_j0ubW4tTh1O3Y9MP3wPDH94I', '88X8zf_L8sr51eTS4NPh1-fT6sbxxfLC9cW6', '88f2xPbO98P61ufe6Njg0efR5Mj_y_zM-8tP', '88LxxvDE8MT22uvZ6dDn0uvc7cH2wvXF8sK1', '88DzwfbB8sP22uvS4dPm0-XS4c36zvnJ_s6w', '88TwxfDD89_u1u_c6dDl3fHG8sX1wvKC', '88D2wvXF8sTz3-7a6N7q2Ojf88Twx_fA8Ig']\n"
     ]
    }
   ],
   "source": [
    "import requests\n",
    "\n",
    "tokens = load_tokens(KAKAO_FRIEND_TOKEN_SAVED_FILE)\n",
    "\n",
    "friends_url = \"https://kapi.kakao.com/v1/api/talk/friends\"\n",
    "\n",
    "headers = {\n",
    "    \"Authorization\": \"Bearer \" + tokens['access_token']\n",
    "}\n",
    "\n",
    "res = json.loads(requests.get(friends_url, headers=headers).text)\n",
    "\n",
    "print(type(res))\n",
    "print(res)\n",
    "\n",
    "flist_uuid = []\n",
    "friends_list = res.get(\"elements\")\n",
    "#print(friends_list)\n",
    "\n",
    "#fid = friends_list[0].get(\"uuid\")\n",
    "#print(fid)\n",
    "\n",
    "for i in range(len(friends_list)):\n",
    "    flist_uuid.append(friends_list[i].get(\"uuid\"))\n",
    "    \n",
    "print(flist_uuid)"
   ]
  },
  {
   "cell_type": "code",
   "execution_count": 11,
   "id": "55a92872",
   "metadata": {},
   "outputs": [
    {
     "name": "stdout",
     "output_type": "stream",
     "text": [
      "88Dxx_HA98D12e_Z6tru2-_a9sH1wvLF9Yk\n",
      "[\"88Dxx_HA98D12e_Z6tru2-_a9sH1wvLF9Yk\"]\n",
      "200\n",
      "{'successful_receiver_uuids': ['88Dxx_HA98D12e_Z6tru2-_a9sH1wvLF9Yk']}\n",
      "카톡 메시지가 간드아!\n"
     ]
    }
   ],
   "source": [
    "#fsend_url = \"https://kapi.kakao.com/v1/api/talk/friends/message/scrap/send\"\n",
    "fsend_url = \"https://kapi.kakao.com/v1/api/talk/friends/message/default/send\"\n",
    "\n",
    "print(fid)\n",
    "\n",
    "#headers = {\n",
    "#    \"Content-Type\": \"application/x-www-form-urlencoded\",\n",
    "#    \"Authorization\": \"Bearer \" + tokens['access_token']\n",
    "#}\n",
    "\n",
    "headers = {\n",
    "    \"Content-Type\": \"application/x-www-form-urlencoded\",\n",
    "    \"Authorization\": \"Bearer \" + tokens['access_token']\n",
    "}\n",
    "\n",
    "print('[\"{}\"]'.format(fid))\n",
    "\n",
    "data = {\n",
    "    'receiver_uuids': '[\"{}\"]'.format(fid),\n",
    "    #'receiver_uuids': {\"88Dxx_HA98D12e_Z6tru2-_a9sH1wvLF9Yk\"},\n",
    "    \"template_object\": json.dumps({\n",
    "        \"object_type\": \"text\",\n",
    "        \"text\": \"텍스트 영역입니다. 최대 200자 표시 가능합니다.\",\n",
    "        \"link\": {\n",
    "            \"web_url\": \"https://developers.kakao.com\",\n",
    "            \"mobile_web_url\": \"https://developers.kakao.com\"\n",
    "        },\n",
    "        \"button_title\": \"바로 확인\"\n",
    "    })\n",
    "}\n",
    "\n",
    "response = requests.post(fsend_url, headers=headers, data=data)\n",
    "print(response.status_code)\n",
    "print(response.json())\n",
    "\n",
    "if response.status_code != 200:\n",
    "    print(\"에러!\")\n",
    "else:\n",
    "    print(\"카톡 메시지가 간드아!\")"
   ]
  },
  {
   "cell_type": "code",
   "execution_count": null,
   "id": "03737c0a",
   "metadata": {},
   "outputs": [],
   "source": [
    "# 기대값\n",
    "#{'elements': [{'profile_nickname': 'x', 'profile_thumbnail_image': 'https://p.kakaocdn.net/th/talkp/wkXtvsu5W8/yfDV9LzxEFdbglMO4KzqC1/q2ruf1_110x110_c.jpg', 'id': 1932533220, 'uuid': 'vo2_jreAtIy-kqSTpZSkkqaesoSwgLiAs-4', 'favorite': False},"
   ]
  },
  {
   "cell_type": "code",
   "execution_count": 22,
   "id": "d7e7df8c",
   "metadata": {},
   "outputs": [],
   "source": [
    "def team_loop_msg(fid_list):\n",
    "    for i in range(len(fid_list)):\n",
    "        data = {\n",
    "            'receiver_uuids': '[\"{}\"]'.format(fid_list[i]),\n",
    "            \"template_object\": json.dumps({\n",
    "                \"object_type\": \"text\",\n",
    "                \"text\": \"xxx 회원님들!!! 오늘부터 50% 초특가 폭탄 세일입니다!!!\",\n",
    "                \"link\": {\n",
    "                    \"web_url\": \"https://www.google.com/\",\n",
    "                    \"mobile_web_url\": \"https://www.google.com/\"\n",
    "                },\n",
    "                \"button_title\": \"공지사항\"\n",
    "            })\n",
    "        }\n",
    "        \n",
    "        requests.post(fsend_url, headers=headers, data=data)\n",
    "    \n",
    "team_loop_msg(flist_uuid)"
   ]
  },
  {
   "cell_type": "code",
   "execution_count": null,
   "id": "147f2ed0",
   "metadata": {},
   "outputs": [],
   "source": []
  },
  {
   "cell_type": "code",
   "execution_count": null,
   "id": "ac3761de",
   "metadata": {},
   "outputs": [],
   "source": []
  },
  {
   "cell_type": "code",
   "execution_count": null,
   "id": "2468ee3a",
   "metadata": {},
   "outputs": [],
   "source": []
  }
 ],
 "metadata": {
  "kernelspec": {
   "display_name": "Python 3",
   "language": "python",
   "name": "python3"
  },
  "language_info": {
   "codemirror_mode": {
    "name": "ipython",
    "version": 3
   },
   "file_extension": ".py",
   "mimetype": "text/x-python",
   "name": "python",
   "nbconvert_exporter": "python",
   "pygments_lexer": "ipython3",
   "version": "3.8.8"
  }
 },
 "nbformat": 4,
 "nbformat_minor": 5
}
