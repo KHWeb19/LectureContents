{
 "cells": [
  {
   "cell_type": "code",
   "execution_count": 1,
   "id": "3c8af0c6",
   "metadata": {},
   "outputs": [],
   "source": [
    "import json\n",
    "import datetime\n",
    "import os\n",
    "\n",
    "#KAKAO_MY_TOKEN_SAVED_FILE = \"kakao_msg/kakao_token.json\"\n",
    "\n",
    "def load_tokens(filename):\n",
    "    with open(filename) as fp:\n",
    "        tokens = json.load(fp)\n",
    "        \n",
    "    return tokens\n",
    "\n",
    "#tokens = load_tokens(KAKAO_TOKEN_SAVED_FILE)"
   ]
  },
  {
   "cell_type": "code",
   "execution_count": 2,
   "id": "9aaaa734",
   "metadata": {},
   "outputs": [],
   "source": [
    "KAKAO_FRIEND_TOKEN_SAVED_FILE = \"kakao_msg/kakao_friend_token.json\"\n",
    "\n",
    "def save_tokens(filename, tokens):\n",
    "    with open(filename, \"w\") as fp:\n",
    "        json.dump(tokens, fp)"
   ]
  },
  {
   "cell_type": "code",
   "execution_count": 6,
   "id": "c67c3df0",
   "metadata": {},
   "outputs": [],
   "source": [
    "import requests\n",
    "\n",
    "#https://kauth.kakao.com/oauth/authorize?client_id=${REST_API_KEY}&redirect_uri=${REDIRECT_URI}&response_type=code&scope=account_email\n",
    "\n",
    "#https://kauth.kakao.com/oauth/authorize?client_id=123123123123123123123&redirect_uri=https://localhost.com&response_type=code&scope=talk_message,friends\n",
    "\n",
    "def load_tokens(filename):\n",
    "    with open(filename) as fp:\n",
    "        tokens = json.load(fp)\n",
    "        \n",
    "    return tokens"
   ]
  },
  {
   "cell_type": "code",
   "execution_count": 23,
   "id": "a0369b39",
   "metadata": {},
   "outputs": [
    {
     "name": "stdout",
     "output_type": "stream",
     "text": [
      "에러!!!\n"
     ]
    }
   ],
   "source": [
    "import requests\n",
    "\n",
    "url = \"https://kauth.kakao.com/oauth/token\"\n",
    "\n",
    "#data = {\n",
    "#    \"grant_type\": \"authorization_code\",\n",
    "#    \"client_id\": \"YourRESTAPIKey\",\n",
    "#    \"redirect_uri\": \"https://localhost.com\",\n",
    "#    \"code\": \"https://kauth.kakao.com/oauth/authorize 블라블라 요청한 내용의 응답 code\"\n",
    "#}\n",
    "\n",
    "data = {\n",
    "    \"grant_type\": \"authorization_code\",\n",
    "    \"client_id\": \"\",\n",
    "    \"redirect_uri\": \"https://localhost.com\",\n",
    "    \"code\": \"\"\n",
    "}\n",
    "\n",
    "response = requests.post(url, data=data)\n",
    "\n",
    "if response.status_code != 200:\n",
    "    print(\"에러!!!\")\n",
    "else:\n",
    "    tokens = response.json()\n",
    "    print(tokens)\n",
    "    \n",
    "#save_tokens(KAKAO_FRIEND_TOKEN_SAVED_FILE, tokens)"
   ]
  },
  {
   "cell_type": "code",
   "execution_count": 9,
   "id": "30b757a6",
   "metadata": {},
   "outputs": [],
   "source": [
    "save_tokens(KAKAO_FRIEND_TOKEN_SAVED_FILE, tokens)"
   ]
  },
  {
   "cell_type": "code",
   "execution_count": 26,
   "id": "2382e27e",
   "metadata": {},
   "outputs": [
    {
     "name": "stdout",
     "output_type": "stream",
     "text": [
      "<class 'dict'>\n",
      "['88D5yPnJ_sjk1efe59fu3eXJ_sr9zfrKtg', '88Dxx_HA98D12e_Z6tru2-_a9sH1wvLF9Yk', '88DxxvTN_sb_0-XT4tbj1-XQ_Mv_yPjP_30', '88L0xvfF8cL2x-vY6tzr2u3Z693xxvLF9cLydA', '88HywPbF9s_j0ubW4tTh1O3Y9MP3wPDH94I', '88X8zf_L8sr51eTS4NPh1-fT6sbxxfLC9cW6', '88f2xPbO98P61ufe6Njg0efR5Mj_y_zM-8tP', '88LxxvDE8MT22uvZ6dDn0uvc7cH2wvXF8sK1', '88H0w_HA8MP32-3V7d7o2eHQ_Mv_yPjP_4E', '88DzwfbB8sP22uvS4dPm0-XS4c36zvnJ_s6w']\n"
     ]
    }
   ],
   "source": [
    "import requests\n",
    "\n",
    "tokens = load_tokens(KAKAO_FRIEND_TOKEN_SAVED_FILE)\n",
    "\n",
    "friends_url = \"https://kapi.kakao.com/v1/api/talk/friends\"\n",
    "\n",
    "headers = {\n",
    "    \"Authorization\": \"Bearer \" + tokens['access_token']\n",
    "}\n",
    "\n",
    "res = json.loads(requests.get(friends_url, headers=headers).text)\n",
    "\n",
    "print(type(res))\n",
    "#print(res)\n",
    "\n",
    "flist_uuid = []\n",
    "friends_list = res.get(\"elements\")\n",
    "#print(friends_list)\n",
    "\n",
    "#fid = friends_list[0].get(\"uuid\")\n",
    "#print(fid)\n",
    "\n",
    "for i in range(len(friends_list)):\n",
    "    flist_uuid.append(friends_list[i].get(\"uuid\"))\n",
    "    \n",
    "print(flist_uuid)"
   ]
  },
  {
   "cell_type": "code",
   "execution_count": null,
   "id": "91922722",
   "metadata": {},
   "outputs": [],
   "source": []
  },
  {
   "cell_type": "code",
   "execution_count": null,
   "id": "60f4c0aa",
   "metadata": {},
   "outputs": [],
   "source": []
  },
  {
   "cell_type": "code",
   "execution_count": 11,
   "id": "55a92872",
   "metadata": {},
   "outputs": [
    {
     "name": "stdout",
     "output_type": "stream",
     "text": [
      "88Dxx_HA98D12e_Z6tru2-_a9sH1wvLF9Yk\n",
      "[\"88Dxx_HA98D12e_Z6tru2-_a9sH1wvLF9Yk\"]\n",
      "200\n",
      "{'successful_receiver_uuids': ['88Dxx_HA98D12e_Z6tru2-_a9sH1wvLF9Yk']}\n",
      "카톡 메시지가 간드아!\n"
     ]
    }
   ],
   "source": [
    "#fsend_url = \"https://kapi.kakao.com/v1/api/talk/friends/message/scrap/send\"\n",
    "fsend_url = \"https://kapi.kakao.com/v1/api/talk/friends/message/default/send\"\n",
    "\n",
    "print(fid)\n",
    "\n",
    "#headers = {\n",
    "#    \"Content-Type\": \"application/x-www-form-urlencoded\",\n",
    "#    \"Authorization\": \"Bearer \" + tokens['access_token']\n",
    "#}\n",
    "\n",
    "headers = {\n",
    "    \"Content-Type\": \"application/x-www-form-urlencoded\",\n",
    "    \"Authorization\": \"Bearer \" + tokens['access_token']\n",
    "}\n",
    "\n",
    "print('[\"{}\"]'.format(fid))\n",
    "\n",
    "data = {\n",
    "    'receiver_uuids': '[\"{}\"]'.format(fid),\n",
    "    #'receiver_uuids': {\"88Dxx_HA98D12e_Z6tru2-_a9sH1wvLF9Yk\"},\n",
    "    \"template_object\": json.dumps({\n",
    "        \"object_type\": \"text\",\n",
    "        \"text\": \"텍스트 영역입니다. 최대 200자 표시 가능합니다.\",\n",
    "        \"link\": {\n",
    "            \"web_url\": \"https://developers.kakao.com\",\n",
    "            \"mobile_web_url\": \"https://developers.kakao.com\"\n",
    "        },\n",
    "        \"button_title\": \"바로 확인\"\n",
    "    })\n",
    "}\n",
    "\n",
    "response = requests.post(fsend_url, headers=headers, data=data)\n",
    "print(response.status_code)\n",
    "print(response.json())\n",
    "\n",
    "if response.status_code != 200:\n",
    "    print(\"에러!\")\n",
    "else:\n",
    "    print(\"카톡 메시지가 간드아!\")"
   ]
  },
  {
   "cell_type": "code",
   "execution_count": null,
   "id": "03737c0a",
   "metadata": {},
   "outputs": [],
   "source": [
    "# 기대값\n",
    "#{'elements': [{'profile_nickname': 'x', 'profile_thumbnail_image': 'https://p.kakaocdn.net/th/talkp/wkXtvsu5W8/yfDV9LzxEFdbglMO4KzqC1/q2ruf1_110x110_c.jpg', 'id': 1932533220, 'uuid': 'vo2_jreAtIy-kqSTpZSkkqaesoSwgLiAs-4', 'favorite': False},"
   ]
  },
  {
   "cell_type": "code",
   "execution_count": 22,
   "id": "d7e7df8c",
   "metadata": {},
   "outputs": [],
   "source": [
    "def team_loop_msg(fid_list):\n",
    "    for i in range(len(fid_list)):\n",
    "        data = {\n",
    "            'receiver_uuids': '[\"{}\"]'.format(fid_list[i]),\n",
    "            \"template_object\": json.dumps({\n",
    "                \"object_type\": \"text\",\n",
    "                \"text\": \"xxx 회원님들!!! 오늘부터 50% 초특가 폭탄 세일입니다!!!\",\n",
    "                \"link\": {\n",
    "                    \"web_url\": \"https://www.google.com/\",\n",
    "                    \"mobile_web_url\": \"https://www.google.com/\"\n",
    "                },\n",
    "                \"button_title\": \"공지사항\"\n",
    "            })\n",
    "        }\n",
    "        \n",
    "        requests.post(fsend_url, headers=headers, data=data)\n",
    "    \n",
    "team_loop_msg(flist_uuid)"
   ]
  },
  {
   "cell_type": "code",
   "execution_count": null,
   "id": "147f2ed0",
   "metadata": {},
   "outputs": [],
   "source": []
  },
  {
   "cell_type": "code",
   "execution_count": null,
   "id": "ac3761de",
   "metadata": {},
   "outputs": [],
   "source": [
    "#email 처리"
   ]
  },
  {
   "cell_type": "code",
   "execution_count": 27,
   "id": "2468ee3a",
   "metadata": {},
   "outputs": [],
   "source": [
    "from flask import Flask, url_for, request, jsonify, redirect, Response\n",
    "from flask_cors import CORS, cross_origin\n",
    "\n",
    "import json\n",
    "import requests"
   ]
  },
  {
   "cell_type": "code",
   "execution_count": 28,
   "id": "180b8baf",
   "metadata": {},
   "outputs": [],
   "source": [
    "NAVER_USER_DATA_SAVED_FILE = \"naver/account\""
   ]
  },
  {
   "cell_type": "code",
   "execution_count": null,
   "id": "c50300a1",
   "metadata": {},
   "outputs": [],
   "source": [
    "import pickle\n",
    "\n",
    "naver_user_info = dict({\n",
    "    \"smtp_user_id\": \"네이버계정@naver.com\"\n",
    "    \"smtp_user_pw\": \"비밀번호\"\n",
    "})\n",
    "\n",
    "f = open(NAVER_USER_DATA_SAVED_FILE, 'wb')\n",
    "pickle.dump(naver_user_info, f)\n",
    "f.close()"
   ]
  }
 ],
 "metadata": {
  "kernelspec": {
   "display_name": "Python 3",
   "language": "python",
   "name": "python3"
  },
  "language_info": {
   "codemirror_mode": {
    "name": "ipython",
    "version": 3
   },
   "file_extension": ".py",
   "mimetype": "text/x-python",
   "name": "python",
   "nbconvert_exporter": "python",
   "pygments_lexer": "ipython3",
   "version": "3.8.8"
  }
 },
 "nbformat": 4,
 "nbformat_minor": 5
}
