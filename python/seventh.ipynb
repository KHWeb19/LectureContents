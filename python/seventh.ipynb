{
 "cells": [
  {
   "cell_type": "code",
   "execution_count": 2,
   "id": "07342ef4",
   "metadata": {},
   "outputs": [],
   "source": [
    "import json\n",
    "import datetime\n",
    "import os\n",
    "\n",
    "KAKAO_MY_TOKEN_SAVED_FILE = \"kakao_msg/kakao_token.json\"\n",
    "\n",
    "def load_tokens(filename):\n",
    "    with open(filename) as fp:\n",
    "        tokens = json.load(fp)\n",
    "        \n",
    "    return tokens\n",
    "\n",
    "tokens = load_tokens(KAKAO_TOKEN_SAVED_FILE)"
   ]
  },
  {
   "cell_type": "code",
   "execution_count": 4,
   "id": "d1b2fe7d",
   "metadata": {},
   "outputs": [],
   "source": [
    "KAKAO_FRIEND_TOKEN_SAVED_FILE = \"kakao_msg/kakao_friend_token.json\"\n",
    "\n",
    "def save_tokens(filename, tokens):\n",
    "    with open(filename, \"w\") as fp:\n",
    "        json.dump(tokens, fp)"
   ]
  },
  {
   "cell_type": "code",
   "execution_count": null,
   "id": "f811ed2a",
   "metadata": {},
   "outputs": [],
   "source": [
    "import requests\n",
    "\n",
    "#https://kauth.kakao.com/oauth/authorize?client_id=${REST_API_KEY}&redirect_uri=${REDIRECT_URI}&response_type=code&scope=account_email\n",
    "\n",
    "https://kauth.kakao.com/oauth/authorize?client_id=559cf5dc26a9df776f0b704af116bee5&redirect_uri=https://localhost.com&response_type=code&scope=talk_message,friends"
   ]
  },
  {
   "cell_type": "code",
   "execution_count": 27,
   "id": "4a5a1fd3",
   "metadata": {},
   "outputs": [
    {
     "name": "stdout",
     "output_type": "stream",
     "text": [
      "에러!!!\n"
     ]
    }
   ],
   "source": [
    "import requests\n",
    "\n",
    "url = \"https://kauth.kakao.com/oauth/token\"\n",
    "\n",
    "#data = {\n",
    "#    \"grant_type\": \"authorization_code\",\n",
    "#    \"client_id\": \"YourRESTAPIKey\",\n",
    "#    \"redirect_uri\": \"https://localhost.com\",\n",
    "#    \"code\": \"https://kauth.kakao.com/oauth/authorize 블라블라 요청한 내용의 응답 code\"\n",
    "#}\n",
    "\n",
    "data = {\n",
    "    \"grant_type\": \"authorization_code\",\n",
    "    \"client_id\": \"\",\n",
    "    \"redirect_uri\": \"https://localhost.com\",\n",
    "    \"code\": \"\"\n",
    "}\n",
    "\n",
    "response = requests.post(url, data=data)\n",
    "\n",
    "if response.status_code != 200:\n",
    "    print(\"에러!!!\")\n",
    "else:\n",
    "    tokens = response.json()\n",
    "    print(tokens)\n",
    "    \n",
    "save_tokens(KAKAO_FRIEND_TOKEN_SAVED_FILE, tokens)"
   ]
  },
  {
   "cell_type": "code",
   "execution_count": 26,
   "id": "3ac7c6b3",
   "metadata": {},
   "outputs": [
    {
     "name": "stdout",
     "output_type": "stream",
     "text": [
      "<class 'dict'>\n",
      "{'elements': [], 'total_count': 0, 'after_url': None, 'favorite_count': 0}\n",
      "[]\n"
     ]
    },
    {
     "ename": "NameError",
     "evalue": "name 'frineds_list' is not defined",
     "output_type": "error",
     "traceback": [
      "\u001b[1;31m---------------------------------------------------------------------------\u001b[0m",
      "\u001b[1;31mNameError\u001b[0m                                 Traceback (most recent call last)",
      "\u001b[1;32m<ipython-input-26-5ee6d47195fd>\u001b[0m in \u001b[0;36m<module>\u001b[1;34m\u001b[0m\n\u001b[0;32m     17\u001b[0m \u001b[0mprint\u001b[0m\u001b[1;33m(\u001b[0m\u001b[0mfriends_list\u001b[0m\u001b[1;33m)\u001b[0m\u001b[1;33m\u001b[0m\u001b[1;33m\u001b[0m\u001b[0m\n\u001b[0;32m     18\u001b[0m \u001b[1;33m\u001b[0m\u001b[0m\n\u001b[1;32m---> 19\u001b[1;33m \u001b[0mfid\u001b[0m \u001b[1;33m=\u001b[0m \u001b[0mfrineds_list\u001b[0m\u001b[1;33m[\u001b[0m\u001b[1;36m0\u001b[0m\u001b[1;33m]\u001b[0m\u001b[1;33m.\u001b[0m\u001b[0mget\u001b[0m\u001b[1;33m(\u001b[0m\u001b[1;34m\"uuid\"\u001b[0m\u001b[1;33m)\u001b[0m\u001b[1;33m\u001b[0m\u001b[1;33m\u001b[0m\u001b[0m\n\u001b[0m\u001b[0;32m     20\u001b[0m \u001b[0mprint\u001b[0m\u001b[1;33m(\u001b[0m\u001b[0mfid\u001b[0m\u001b[1;33m)\u001b[0m\u001b[1;33m\u001b[0m\u001b[1;33m\u001b[0m\u001b[0m\n",
      "\u001b[1;31mNameError\u001b[0m: name 'frineds_list' is not defined"
     ]
    }
   ],
   "source": [
    "import requests\n",
    "\n",
    "tokens = load_tokens(KAKAO_FRIEND_TOKEN_SAVED_FILE)\n",
    "\n",
    "friends_url = \"https://kapi.kakao.com/v1/api/talk/friends\"\n",
    "\n",
    "headers = {\n",
    "    \"Authorization\": \"Bearer \" + tokens['access_token']\n",
    "}\n",
    "\n",
    "res = json.loads(requests.get(friends_url, headers=headers).text)\n",
    "\n",
    "print(type(res))\n",
    "print(res)\n",
    "\n",
    "friends_list = res.get(\"elements\")\n",
    "print(friends_list)\n",
    "\n",
    "fid = frineds_list[0].get(\"uuid\")\n",
    "print(fid)"
   ]
  },
  {
   "cell_type": "code",
   "execution_count": 25,
   "id": "871150aa",
   "metadata": {},
   "outputs": [
    {
     "ename": "NameError",
     "evalue": "name 'fid' is not defined",
     "output_type": "error",
     "traceback": [
      "\u001b[1;31m---------------------------------------------------------------------------\u001b[0m",
      "\u001b[1;31mNameError\u001b[0m                                 Traceback (most recent call last)",
      "\u001b[1;32m<ipython-input-25-3473c0d58ffb>\u001b[0m in \u001b[0;36m<module>\u001b[1;34m\u001b[0m\n\u001b[0;32m      2\u001b[0m \u001b[1;33m\u001b[0m\u001b[0m\n\u001b[0;32m      3\u001b[0m data = {\n\u001b[1;32m----> 4\u001b[1;33m     \u001b[1;34m'reciever_uuids'\u001b[0m\u001b[1;33m:\u001b[0m \u001b[1;34m'[\"{}\"]'\u001b[0m\u001b[1;33m.\u001b[0m\u001b[0mformat\u001b[0m\u001b[1;33m(\u001b[0m\u001b[0mfid\u001b[0m\u001b[1;33m)\u001b[0m\u001b[1;33m,\u001b[0m\u001b[1;33m\u001b[0m\u001b[1;33m\u001b[0m\u001b[0m\n\u001b[0m\u001b[0;32m      5\u001b[0m     \"template_object\": json.dumps({\n\u001b[0;32m      6\u001b[0m         \u001b[1;34m\"object_type\"\u001b[0m\u001b[1;33m:\u001b[0m \u001b[1;34m\"text\"\u001b[0m\u001b[1;33m,\u001b[0m\u001b[1;33m\u001b[0m\u001b[1;33m\u001b[0m\u001b[0m\n",
      "\u001b[1;31mNameError\u001b[0m: name 'fid' is not defined"
     ]
    }
   ],
   "source": [
    "fsend_url = \"https://kapi.kakao.com/v1/api/talk/friends/message/scrap/send\"\n",
    "\n",
    "data = {\n",
    "    'reciever_uuids': '[\"{}\"]'.format(fid),\n",
    "    \"template_object\": json.dumps({\n",
    "        \"object_type\": \"text\",\n",
    "        \"text\": \"우왕굳\",\n",
    "        \"link\": {\n",
    "            \"web_url\": \"https://www.naver.com\"\n",
    "        }\n",
    "    })\n",
    "}\n",
    "\n",
    "reponse = requests.post(fsend_url, headers=headers, data=data)\n",
    "print(response.status_code)\n",
    "\n",
    "if response.status_code != 200:\n",
    "    print(\"에러!\")\n",
    "else:\n",
    "    print(\"카톡 메시지가 간드아!\")"
   ]
  },
  {
   "cell_type": "code",
   "execution_count": null,
   "id": "26633d77",
   "metadata": {},
   "outputs": [],
   "source": [
    "# 기대값\n",
    "#{'elements': [{'profile_nickname': 'x', 'profile_thumbnail_image': 'https://p.kakaocdn.net/th/talkp/wkXtvsu5W8/yfDV9LzxEFdbglMO4KzqC1/q2ruf1_110x110_c.jpg', 'id': 1932533220, 'uuid': 'vo2_jreAtIy-kqSTpZSkkqaesoSwgLiAs-4', 'favorite': False},"
   ]
  },
  {
   "cell_type": "code",
   "execution_count": null,
   "id": "2bddfdbf",
   "metadata": {},
   "outputs": [],
   "source": []
  },
  {
   "cell_type": "code",
   "execution_count": null,
   "id": "fb5e0382",
   "metadata": {},
   "outputs": [],
   "source": []
  },
  {
   "cell_type": "code",
   "execution_count": null,
   "id": "89b8fc5f",
   "metadata": {},
   "outputs": [],
   "source": []
  },
  {
   "cell_type": "code",
   "execution_count": null,
   "id": "13b11255",
   "metadata": {},
   "outputs": [],
   "source": []
  }
 ],
 "metadata": {
  "kernelspec": {
   "display_name": "Python 3",
   "language": "python",
   "name": "python3"
  },
  "language_info": {
   "codemirror_mode": {
    "name": "ipython",
    "version": 3
   },
   "file_extension": ".py",
   "mimetype": "text/x-python",
   "name": "python",
   "nbconvert_exporter": "python",
   "pygments_lexer": "ipython3",
   "version": "3.8.8"
  }
 },
 "nbformat": 4,
 "nbformat_minor": 5
}
