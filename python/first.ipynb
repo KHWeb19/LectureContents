{
 "cells": [
  {
   "cell_type": "code",
   "execution_count": null,
   "id": "7b6a7613",
   "metadata": {},
   "outputs": [],
   "source": [
    "# 파이썬은 요렇게 샾으로 주석을 만듬"
   ]
  },
  {
   "cell_type": "code",
   "execution_count": 1,
   "id": "961a6b7b",
   "metadata": {},
   "outputs": [
    {
     "name": "stdout",
     "output_type": "stream",
     "text": [
      "Hello Python\n"
     ]
    }
   ],
   "source": [
    "print(\"Hello Python\")"
   ]
  },
  {
   "cell_type": "code",
   "execution_count": 2,
   "id": "4af53bc3",
   "metadata": {},
   "outputs": [
    {
     "name": "stdout",
     "output_type": "stream",
     "text": [
      "Hello Python\n"
     ]
    }
   ],
   "source": [
    "print('Hello Python')"
   ]
  },
  {
   "cell_type": "code",
   "execution_count": null,
   "id": "ef893403",
   "metadata": {},
   "outputs": [],
   "source": [
    "# 보는 바와 같이 쌍따옴표나 홑따옴표 구별이 없음"
   ]
  },
  {
   "cell_type": "code",
   "execution_count": 3,
   "id": "f5180c3c",
   "metadata": {},
   "outputs": [
    {
     "name": "stdout",
     "output_type": "stream",
     "text": [
      "1 10\n"
     ]
    }
   ],
   "source": [
    "num = 1\n",
    "Num = 10\n",
    "print(num, Num)"
   ]
  },
  {
   "cell_type": "code",
   "execution_count": null,
   "id": "18c6b042",
   "metadata": {},
   "outputs": [],
   "source": [
    "# Shift + Enter: 실행\n",
    "# dd: 셀 삭제\n",
    "# b: 아래쪽 셀 생성"
   ]
  },
  {
   "cell_type": "code",
   "execution_count": 4,
   "id": "8ce154a0",
   "metadata": {},
   "outputs": [
    {
     "name": "stdout",
     "output_type": "stream",
     "text": [
      "<class 'complex'>\n",
      "-4.0\n",
      "3.0\n",
      "(3+4j)\n"
     ]
    }
   ],
   "source": [
    "z = 3 - 4j\n",
    "\n",
    "print(type(z))\n",
    "print(z.imag)\n",
    "print(z.real)\n",
    "print(z.conjugate())"
   ]
  },
  {
   "cell_type": "code",
   "execution_count": 6,
   "id": "7669fe2b",
   "metadata": {},
   "outputs": [
    {
     "name": "stdout",
     "output_type": "stream",
     "text": [
      "0 333 0.42857142857142855 333.3\n"
     ]
    }
   ],
   "source": [
    "# / 는 일반적인 나누기\n",
    "# // 는 나머지를 버림 (몫만 취함)\n",
    "num1 = 3 // 7\n",
    "num2 = 3333 // 10\n",
    "num3 = 3 / 7\n",
    "num4 = 3333 / 10\n",
    "\n",
    "print(num1, num2, num3, num4)"
   ]
  },
  {
   "cell_type": "code",
   "execution_count": 7,
   "id": "e05d9c82",
   "metadata": {},
   "outputs": [
    {
     "name": "stdout",
     "output_type": "stream",
     "text": [
      "test python\n",
      "pointer\n",
      "p\n",
      "n\n",
      "p\n",
      "oin\n",
      "po\n",
      "er\n",
      "pointer\n",
      "pitr\n"
     ]
    }
   ],
   "source": [
    "testStr = 'test' + ' python'\n",
    "print(testStr)\n",
    "\n",
    "str1 = \"pointer\"\n",
    "print(str1)\n",
    "print(str1[0])\n",
    "print(str1[3])\n",
    "\n",
    "print(str1[0:1]) # 0 ~ 1 미만\n",
    "print(str1[1:4]) # 1 ~ 4 미만\n",
    "print(str1[:2])  # 시작이 없으면 자동 0\n",
    "print(str1[-2:]) # 끝이 없으면 자동 0\n",
    "print(str1[:])   # 통채로 복사\n",
    "print(str1[::2]) # 두칸씩 건너뛰기"
   ]
  },
  {
   "cell_type": "code",
   "execution_count": 8,
   "id": "8e6c0807",
   "metadata": {},
   "outputs": [
    {
     "name": "stdout",
     "output_type": "stream",
     "text": [
      "['red', 'green', 'blue']\n",
      "<class 'list'>\n",
      "['red', 'green', 'blue', 'gold']\n",
      "['red', 'black', 'green', 'blue', 'gold']\n",
      "['red', 'black', 'green', 'blue', 'gold', 'white', 'gray']\n",
      "['red', 'black', 'green', 'blue', 'gold', 'white', 'gray', 'purple', 'red']\n"
     ]
    }
   ],
   "source": [
    "colors = ['red', 'green', 'blue']\n",
    "\n",
    "print(colors)\n",
    "print(type(colors))\n",
    "\n",
    "colors.append('gold')\n",
    "\n",
    "print(colors)\n",
    "\n",
    "colors.insert(1, 'black')\n",
    "\n",
    "print(colors)\n",
    "\n",
    "colors.extend(['white', 'gray'])\n",
    "\n",
    "print(colors)\n",
    "\n",
    "colors += ['purple']\n",
    "colors += ['red']\n",
    "\n",
    "print(colors)"
   ]
  },
  {
   "cell_type": "code",
   "execution_count": 9,
   "id": "ff4a75d7",
   "metadata": {},
   "outputs": [
    {
     "name": "stdout",
     "output_type": "stream",
     "text": [
      "7\n",
      "7\n",
      "7\n",
      "2\n",
      "red\n",
      "purple\n",
      "gray\n",
      "['red', 'black', 'green', 'blue', 'gold', 'white']\n"
     ]
    }
   ],
   "source": [
    "colors = ['red', 'black', 'green', 'blue', 'gold', 'white', 'gray', 'purple', 'red']\n",
    "\n",
    "print(colors.index('purple'))\n",
    "print(colors.index('purple', 1))\n",
    "print(colors.index('purple', 4, 8))\n",
    "\n",
    "print(colors.count('red'))\n",
    "print(colors.pop())\n",
    "print(colors.pop())\n",
    "print(colors.pop())\n",
    "print(colors)"
   ]
  },
  {
   "cell_type": "code",
   "execution_count": 12,
   "id": "c12efff3",
   "metadata": {},
   "outputs": [
    {
     "name": "stdout",
     "output_type": "stream",
     "text": [
      "{'apple': 'red', 'banana': 'yellow'}\n",
      "red\n",
      "{'apple': 'red', 'banana': 'yellow', 'cherry': 'red'}\n",
      "{'apple': 'green', 'banana': 'yellow', 'cherry': 'red'}\n",
      "color.items()\n",
      "('apple', 'green')\n",
      "color.items()\n",
      "('banana', 'yellow')\n",
      "color.items()\n",
      "('cherry', 'red')\n",
      "color.items() - k, v\n",
      "apple green\n",
      "color.items() - k, v\n",
      "banana yellow\n",
      "color.items() - k, v\n",
      "cherry red\n",
      "color.keys()\n",
      "apple\n",
      "color.keys()\n",
      "banana\n",
      "color.keys()\n",
      "cherry\n",
      "color.values()\n",
      "green\n",
      "color.values()\n",
      "yellow\n",
      "color.values()\n",
      "red\n",
      "<class 'dict_keys'>\n",
      "['apple', 'banana', 'cherry']\n"
     ]
    }
   ],
   "source": [
    "# Key: Value\n",
    "color = {\"apple\": \"red\", \"banana\": \"yellow\"}\n",
    "print(color)\n",
    "print(color[\"apple\"])\n",
    "\n",
    "color[\"cherry\"] = \"red\"\n",
    "print(color)\n",
    "\n",
    "color[\"apple\"] = \"green\"\n",
    "print(color)\n",
    "\n",
    "for c in color.items():\n",
    "    print(\"color.items()\")\n",
    "    print(c)\n",
    "    \n",
    "for k, v in color.items():\n",
    "    print(\"color.items() - k, v\")\n",
    "    print(k, v)\n",
    "    \n",
    "for k in color.keys():\n",
    "    print(\"color.keys()\")\n",
    "    print(k)\n",
    "    \n",
    "for v in color.values():\n",
    "    print(\"color.values()\")\n",
    "    print(v)\n",
    "    \n",
    "print(type(color.keys()))\n",
    "print(list(color.keys()))"
   ]
  },
  {
   "cell_type": "code",
   "execution_count": null,
   "id": "8d6ba017",
   "metadata": {},
   "outputs": [],
   "source": [
    "\n"
   ]
  },
  {
   "cell_type": "code",
   "execution_count": null,
   "id": "30adc045",
   "metadata": {},
   "outputs": [],
   "source": []
  },
  {
   "cell_type": "code",
   "execution_count": null,
   "id": "c51d5ec2",
   "metadata": {},
   "outputs": [],
   "source": []
  }
 ],
 "metadata": {
  "kernelspec": {
   "display_name": "Python 3",
   "language": "python",
   "name": "python3"
  },
  "language_info": {
   "codemirror_mode": {
    "name": "ipython",
    "version": 3
   },
   "file_extension": ".py",
   "mimetype": "text/x-python",
   "name": "python",
   "nbconvert_exporter": "python",
   "pygments_lexer": "ipython3",
   "version": "3.8.8"
  }
 },
 "nbformat": 4,
 "nbformat_minor": 5
}
