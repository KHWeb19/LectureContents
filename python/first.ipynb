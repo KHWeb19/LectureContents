{
 "cells": [
  {
   "cell_type": "code",
   "execution_count": null,
   "id": "d25ce571",
   "metadata": {},
   "outputs": [],
   "source": [
    "# 파이썬은 요렇게 샾으로 주석을 만듬"
   ]
  },
  {
   "cell_type": "code",
   "execution_count": 1,
   "id": "47bf3c1d",
   "metadata": {},
   "outputs": [
    {
     "name": "stdout",
     "output_type": "stream",
     "text": [
      "Hello Python\n"
     ]
    }
   ],
   "source": [
    "print(\"Hello Python\")"
   ]
  },
  {
   "cell_type": "code",
   "execution_count": 2,
   "id": "cfb3f31b",
   "metadata": {},
   "outputs": [
    {
     "name": "stdout",
     "output_type": "stream",
     "text": [
      "Hello Python\n"
     ]
    }
   ],
   "source": [
    "print('Hello Python')"
   ]
  },
  {
   "cell_type": "code",
   "execution_count": null,
   "id": "d1a351b3",
   "metadata": {},
   "outputs": [],
   "source": [
    "# 보는 바와 같이 쌍따옴표나 홑따옴표 구별이 없음"
   ]
  },
  {
   "cell_type": "code",
   "execution_count": 3,
   "id": "86130fe5",
   "metadata": {},
   "outputs": [
    {
     "name": "stdout",
     "output_type": "stream",
     "text": [
      "1 10\n"
     ]
    }
   ],
   "source": [
    "num = 1\n",
    "Num = 10\n",
    "print(num, Num)"
   ]
  },
  {
   "cell_type": "code",
   "execution_count": null,
   "id": "565dcec4",
   "metadata": {},
   "outputs": [],
   "source": [
    "# Shift + Enter: 실행\n",
    "# dd: 셀 삭제\n",
    "# b: 아래쪽 셀 생성"
   ]
  },
  {
   "cell_type": "code",
   "execution_count": 4,
   "id": "0fbaac81",
   "metadata": {},
   "outputs": [
    {
     "name": "stdout",
     "output_type": "stream",
     "text": [
      "<class 'complex'>\n",
      "-4.0\n",
      "3.0\n",
      "(3+4j)\n"
     ]
    }
   ],
   "source": [
    "z = 3 - 4j\n",
    "\n",
    "print(type(z))\n",
    "print(z.imag)\n",
    "print(z.real)\n",
    "print(z.conjugate())"
   ]
  },
  {
   "cell_type": "code",
   "execution_count": 6,
   "id": "64591180",
   "metadata": {},
   "outputs": [
    {
     "name": "stdout",
     "output_type": "stream",
     "text": [
      "0 333 0.42857142857142855 333.3\n"
     ]
    }
   ],
   "source": [
    "# / 는 일반적인 나누기\n",
    "# // 는 나머지를 버림 (몫만 취함)\n",
    "num1 = 3 // 7\n",
    "num2 = 3333 // 10\n",
    "num3 = 3 / 7\n",
    "num4 = 3333 / 10\n",
    "\n",
    "print(num1, num2, num3, num4)"
   ]
  },
  {
   "cell_type": "code",
   "execution_count": 7,
   "id": "34a144cc",
   "metadata": {},
   "outputs": [
    {
     "name": "stdout",
     "output_type": "stream",
     "text": [
      "test python\n",
      "pointer\n",
      "p\n",
      "n\n",
      "p\n",
      "oin\n",
      "po\n",
      "er\n",
      "pointer\n",
      "pitr\n"
     ]
    }
   ],
   "source": [
    "testStr = 'test' + ' python'\n",
    "print(testStr)\n",
    "\n",
    "str1 = \"pointer\"\n",
    "print(str1)\n",
    "print(str1[0])\n",
    "print(str1[3])\n",
    "\n",
    "print(str1[0:1]) # 0 ~ 1 미만\n",
    "print(str1[1:4]) # 1 ~ 4 미만\n",
    "print(str1[:2])  # 시작이 없으면 자동 0\n",
    "print(str1[-2:]) # 끝이 없으면 자동 0\n",
    "print(str1[:])   # 통채로 복사\n",
    "print(str1[::2]) # 두칸씩 건너뛰기"
   ]
  },
  {
   "cell_type": "code",
   "execution_count": 8,
   "id": "cb99e39b",
   "metadata": {},
   "outputs": [
    {
     "name": "stdout",
     "output_type": "stream",
     "text": [
      "['red', 'green', 'blue']\n",
      "<class 'list'>\n",
      "['red', 'green', 'blue', 'gold']\n",
      "['red', 'black', 'green', 'blue', 'gold']\n",
      "['red', 'black', 'green', 'blue', 'gold', 'white', 'gray']\n",
      "['red', 'black', 'green', 'blue', 'gold', 'white', 'gray', 'purple', 'red']\n"
     ]
    }
   ],
   "source": [
    "colors = ['red', 'green', 'blue']\n",
    "\n",
    "print(colors)\n",
    "print(type(colors))\n",
    "\n",
    "colors.append('gold')\n",
    "\n",
    "print(colors)\n",
    "\n",
    "colors.insert(1, 'black')\n",
    "\n",
    "print(colors)\n",
    "\n",
    "colors.extend(['white', 'gray'])\n",
    "\n",
    "print(colors)\n",
    "\n",
    "colors += ['purple']\n",
    "colors += ['red']\n",
    "\n",
    "print(colors)"
   ]
  },
  {
   "cell_type": "code",
   "execution_count": 9,
   "id": "09aab859",
   "metadata": {},
   "outputs": [
    {
     "name": "stdout",
     "output_type": "stream",
     "text": [
      "7\n",
      "7\n",
      "7\n",
      "2\n",
      "red\n",
      "purple\n",
      "gray\n",
      "['red', 'black', 'green', 'blue', 'gold', 'white']\n"
     ]
    }
   ],
   "source": [
    "colors = ['red', 'black', 'green', 'blue', 'gold', 'white', 'gray', 'purple', 'red']\n",
    "\n",
    "print(colors.index('purple'))\n",
    "print(colors.index('purple', 1))\n",
    "print(colors.index('purple', 4, 8))\n",
    "\n",
    "print(colors.count('red'))\n",
    "print(colors.pop())\n",
    "print(colors.pop())\n",
    "print(colors.pop())\n",
    "print(colors)"
   ]
  },
  {
   "cell_type": "code",
   "execution_count": 12,
   "id": "e52d6727",
   "metadata": {},
   "outputs": [
    {
     "name": "stdout",
     "output_type": "stream",
     "text": [
      "{'apple': 'red', 'banana': 'yellow'}\n",
      "red\n",
      "{'apple': 'red', 'banana': 'yellow', 'cherry': 'red'}\n",
      "{'apple': 'green', 'banana': 'yellow', 'cherry': 'red'}\n",
      "color.items()\n",
      "('apple', 'green')\n",
      "color.items()\n",
      "('banana', 'yellow')\n",
      "color.items()\n",
      "('cherry', 'red')\n",
      "color.items() - k, v\n",
      "apple green\n",
      "color.items() - k, v\n",
      "banana yellow\n",
      "color.items() - k, v\n",
      "cherry red\n",
      "color.keys()\n",
      "apple\n",
      "color.keys()\n",
      "banana\n",
      "color.keys()\n",
      "cherry\n",
      "color.values()\n",
      "green\n",
      "color.values()\n",
      "yellow\n",
      "color.values()\n",
      "red\n",
      "<class 'dict_keys'>\n",
      "['apple', 'banana', 'cherry']\n"
     ]
    }
   ],
   "source": [
    "# Key: Value\n",
    "color = {\"apple\": \"red\", \"banana\": \"yellow\"}\n",
    "print(color)\n",
    "print(color[\"apple\"])\n",
    "\n",
    "color[\"cherry\"] = \"red\"\n",
    "print(color)\n",
    "\n",
    "color[\"apple\"] = \"green\"\n",
    "print(color)\n",
    "\n",
    "for c in color.items():\n",
    "    print(\"color.items()\")\n",
    "    print(c)\n",
    "    \n",
    "for k, v in color.items():\n",
    "    print(\"color.items() - k, v\")\n",
    "    print(k, v)\n",
    "    \n",
    "for k in color.keys():\n",
    "    print(\"color.keys()\")\n",
    "    print(k)\n",
    "    \n",
    "for v in color.values():\n",
    "    print(\"color.values()\")\n",
    "    print(v)\n",
    "    \n",
    "print(type(color.keys()))\n",
    "print(list(color.keys()))"
   ]
  },
  {
   "cell_type": "code",
   "execution_count": null,
   "id": "5610b15c",
   "metadata": {},
   "outputs": [],
   "source": [
    "# 파이썬에서 제어문은 어떻게 쓸까 ?"
   ]
  },
  {
   "cell_type": "code",
   "execution_count": 13,
   "id": "21b7124f",
   "metadata": {},
   "outputs": [
    {
     "name": "stdout",
     "output_type": "stream",
     "text": [
      "val 은 5 보다 크다!\n"
     ]
    }
   ],
   "source": [
    "# 파이썬은 중괄호를 통해 스코핑을 하지 않는다.\n",
    "# 오로지 탭키를 통해서만 스코핑을 한다.\n",
    "# 그렇기 때문에 들여쓰기를 잘 적용해줘야함\n",
    "val = 10\n",
    "if val > 5:\n",
    "    print(\"val 은 5 보다 크다!\")"
   ]
  },
  {
   "cell_type": "code",
   "execution_count": 15,
   "id": "1c7061f1",
   "metadata": {},
   "outputs": [
    {
     "name": "stdout",
     "output_type": "stream",
     "text": [
      "banana\n"
     ]
    }
   ],
   "source": [
    "money = 10\n",
    "if money > 100:\n",
    "    item = \"apple\"\n",
    "else:\n",
    "    item = \"banana\"\n",
    "    \n",
    "print(item)"
   ]
  },
  {
   "cell_type": "code",
   "execution_count": 18,
   "id": "668daef9",
   "metadata": {},
   "outputs": [
    {
     "name": "stdout",
     "output_type": "stream",
     "text": [
      "점수를 입력하시오: 99\n",
      "등급은: A\n"
     ]
    }
   ],
   "source": [
    "score = int(input(('점수를 입력하시오: ')))\n",
    "if 90 <= score <= 100:\n",
    "    grade = \"A\"\n",
    "elif 80 <= score < 90:\n",
    "    grade = \"B\"\n",
    "elif 70 <= score < 80:\n",
    "    grade = \"C\"\n",
    "elif 60 <= score < 70:\n",
    "    grade = \"D\"\n",
    "else:\n",
    "    grade = \"F\"\n",
    "    \n",
    "print(\"등급은: \" + grade)"
   ]
  },
  {
   "cell_type": "code",
   "execution_count": 19,
   "id": "3a7451b8",
   "metadata": {},
   "outputs": [
    {
     "name": "stdout",
     "output_type": "stream",
     "text": [
      "아이템: 1\n",
      "아이템: 2\n",
      "아이템: 3\n",
      "아이템: 4\n",
      "아이템: 5\n"
     ]
    }
   ],
   "source": [
    "numList = [1, 2, 3, 4, 5, 6, 7, 8, 9, 10]\n",
    "\n",
    "for i in numList:\n",
    "    if i > 5:\n",
    "        break\n",
    "        \n",
    "    print(\"아이템: {0}\".format(i))"
   ]
  },
  {
   "cell_type": "code",
   "execution_count": 21,
   "id": "428257fc",
   "metadata": {},
   "outputs": [
    {
     "name": "stdout",
     "output_type": "stream",
     "text": [
      "아이템: 1, 2\n",
      "아이템: 3, 6\n",
      "아이템: 5, 10\n",
      "아이템: 7, 14\n",
      "아이템: 9, 18\n"
     ]
    }
   ],
   "source": [
    "numList = [1, 2, 3, 4, 5, 6, 7, 8, 9, 10]\n",
    "\n",
    "for i in numList:\n",
    "    if i % 2 == 0:\n",
    "        continue\n",
    "        \n",
    "    print(\"아이템: {0}, {1}\".format(i, i * 2))"
   ]
  },
  {
   "cell_type": "code",
   "execution_count": 22,
   "id": "0766d2f8",
   "metadata": {},
   "outputs": [
    {
     "name": "stdout",
     "output_type": "stream",
     "text": [
      "[0, 1, 2, 3, 4, 5, 6, 7, 8, 9]\n"
     ]
    }
   ],
   "source": [
    "print(list(range(10)))"
   ]
  },
  {
   "cell_type": "code",
   "execution_count": 23,
   "id": "903851ce",
   "metadata": {},
   "outputs": [
    {
     "name": "stdout",
     "output_type": "stream",
     "text": [
      "[5, 6, 7, 8, 9]\n"
     ]
    }
   ],
   "source": [
    "print(list(range(5, 10)))"
   ]
  },
  {
   "cell_type": "code",
   "execution_count": 24,
   "id": "15360d6a",
   "metadata": {},
   "outputs": [
    {
     "name": "stdout",
     "output_type": "stream",
     "text": [
      "[10, 9, 8, 7, 6, 5, 4, 3, 2, 1]\n"
     ]
    }
   ],
   "source": [
    "print(list(range(10, 0, -1)))"
   ]
  },
  {
   "cell_type": "code",
   "execution_count": 25,
   "id": "32a9179c",
   "metadata": {},
   "outputs": [
    {
     "name": "stdout",
     "output_type": "stream",
     "text": [
      "[10, 12, 14, 16, 18]\n"
     ]
    }
   ],
   "source": [
    "print(list(range(10, 20, 2)))"
   ]
  },
  {
   "cell_type": "code",
   "execution_count": 26,
   "id": "99013ab4",
   "metadata": {},
   "outputs": [
    {
     "name": "stdout",
     "output_type": "stream",
     "text": [
      "10\n",
      "12\n",
      "14\n",
      "16\n",
      "18\n"
     ]
    }
   ],
   "source": [
    "for i in range(10, 20, 2):\n",
    "    print(i)"
   ]
  },
  {
   "cell_type": "code",
   "execution_count": 27,
   "id": "75b5257d",
   "metadata": {},
   "outputs": [
    {
     "name": "stdout",
     "output_type": "stream",
     "text": [
      "인덱스: 0, 값: Apple\n",
      "인덱스: 1, 값: Orange\n",
      "인덱스: 2, 값: Banana\n"
     ]
    }
   ],
   "source": [
    "strList = ['Apple', 'Orange', 'Banana']\n",
    "\n",
    "for i in range(len(strList)):\n",
    "    print(\"인덱스: {0}, 값: {1}\".format(i, strList[i]))"
   ]
  },
  {
   "cell_type": "code",
   "execution_count": 29,
   "id": "cdd2f724",
   "metadata": {},
   "outputs": [
    {
     "name": "stdout",
     "output_type": "stream",
     "text": [
      "[1, 4, 9, 16, 25]\n"
     ]
    }
   ],
   "source": [
    "numList = list(range(1, 6))\n",
    "print([i ** 2 for i in numList])"
   ]
  },
  {
   "cell_type": "code",
   "execution_count": 30,
   "id": "138e6ff2",
   "metadata": {},
   "outputs": [
    {
     "name": "stdout",
     "output_type": "stream",
     "text": [
      "[5, 6, 10]\n"
     ]
    }
   ],
   "source": [
    "strList = (\"apple\", \"banana\", \"strawberry\")\n",
    "print([len(i) for i in strList])"
   ]
  },
  {
   "cell_type": "code",
   "execution_count": 31,
   "id": "e3fe2116",
   "metadata": {},
   "outputs": [
    {
     "name": "stdout",
     "output_type": "stream",
     "text": [
      "['banana', 'strawberry', 'orange']\n"
     ]
    }
   ],
   "source": [
    "strList = (\"apple\", \"banana\", \"strawberry\", \"kiwi\", \"orange\")\n",
    "print([i for i in strList if len(i) > 5])"
   ]
  },
  {
   "cell_type": "code",
   "execution_count": 32,
   "id": "69407439",
   "metadata": {},
   "outputs": [
    {
     "name": "stdout",
     "output_type": "stream",
     "text": [
      "결과: 25\n",
      "결과: 30\n"
     ]
    }
   ],
   "source": [
    "numList = [10, 25, 30]\n",
    "\n",
    "# def 는 함수 - 매서드 (파이썬은 클래스 없이 매서드 만들기가 가능함)\n",
    "def get_bigger_than20(i):\n",
    "    return i > 20\n",
    "\n",
    "iterList = filter(get_bigger_than20, numList)\n",
    "for i in iterList:\n",
    "    print(\"결과: {0}\".format(i))"
   ]
  },
  {
   "cell_type": "code",
   "execution_count": 33,
   "id": "1287fa13",
   "metadata": {},
   "outputs": [
    {
     "name": "stdout",
     "output_type": "stream",
     "text": [
      "결과: 25\n",
      "결과: 30\n"
     ]
    }
   ],
   "source": [
    "iterList = filter(lambda i: i > 20, numList)\n",
    "for i in iterList:\n",
    "    print(\"결과: {0}\".format(i))"
   ]
  },
  {
   "cell_type": "code",
   "execution_count": 34,
   "id": "1bfa2b0f",
   "metadata": {},
   "outputs": [
    {
     "name": "stdout",
     "output_type": "stream",
     "text": [
      "결과: 11\n",
      "결과: 12\n",
      "결과: 13\n"
     ]
    }
   ],
   "source": [
    "numList = [1, 2, 3]\n",
    "\n",
    "def add10(i):\n",
    "    return i + 10\n",
    "\n",
    "for i in map(add10, numList):\n",
    "    print(\"결과: {0}\".format(i))"
   ]
  },
  {
   "cell_type": "code",
   "execution_count": 35,
   "id": "6ffafb86",
   "metadata": {},
   "outputs": [
    {
     "name": "stdout",
     "output_type": "stream",
     "text": [
      "[11, 12, 13]\n"
     ]
    }
   ],
   "source": [
    "retList = list(map((lambda i: i + 10), numList))\n",
    "print(retList)"
   ]
  },
  {
   "cell_type": "code",
   "execution_count": null,
   "id": "c32e0731",
   "metadata": {},
   "outputs": [],
   "source": []
  },
  {
   "cell_type": "code",
   "execution_count": null,
   "id": "1485559b",
   "metadata": {},
   "outputs": [],
   "source": []
  },
  {
   "cell_type": "code",
   "execution_count": null,
   "id": "a184c55b",
   "metadata": {},
   "outputs": [],
   "source": []
  },
  {
   "cell_type": "code",
   "execution_count": null,
   "id": "61d91df4",
   "metadata": {},
   "outputs": [],
   "source": []
  },
  {
   "cell_type": "code",
   "execution_count": null,
   "id": "cf29a22c",
   "metadata": {},
   "outputs": [],
   "source": []
  }
 ],
 "metadata": {
  "kernelspec": {
   "display_name": "Python 3",
   "language": "python",
   "name": "python3"
  },
  "language_info": {
   "codemirror_mode": {
    "name": "ipython",
    "version": 3
   },
   "file_extension": ".py",
   "mimetype": "text/x-python",
   "name": "python",
   "nbconvert_exporter": "python",
   "pygments_lexer": "ipython3",
   "version": "3.8.8"
  }
 },
 "nbformat": 4,
 "nbformat_minor": 5
}
