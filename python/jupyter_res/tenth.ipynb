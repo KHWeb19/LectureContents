{
 "cells": [
  {
   "cell_type": "code",
   "execution_count": 2,
   "id": "a7ba92df",
   "metadata": {},
   "outputs": [
    {
     "name": "stdout",
     "output_type": "stream",
     "text": [
      "I'm from parent dir in def test_res()\n"
     ]
    }
   ],
   "source": [
    "import sys\n",
    "# 라이브러리 참조 경로 추가\n",
    "sys.path.append(\"../python_components\")\n",
    "\n",
    "# parent 파이썬 모듈 내에 test_res 기능 활용할 수 있도록 import\n",
    "from parent import test_res\n",
    "\n",
    "#print(sys.path)\n",
    "# 실제 활용 결과\n",
    "test_res()"
   ]
  },
  {
   "cell_type": "code",
   "execution_count": null,
   "id": "c8627a00",
   "metadata": {},
   "outputs": [],
   "source": []
  }
 ],
 "metadata": {
  "kernelspec": {
   "display_name": "Python 3",
   "language": "python",
   "name": "python3"
  },
  "language_info": {
   "codemirror_mode": {
    "name": "ipython",
    "version": 3
   },
   "file_extension": ".py",
   "mimetype": "text/x-python",
   "name": "python",
   "nbconvert_exporter": "python",
   "pygments_lexer": "ipython3",
   "version": "3.8.8"
  }
 },
 "nbformat": 4,
 "nbformat_minor": 5
}
