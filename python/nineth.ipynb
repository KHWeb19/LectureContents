{
 "cells": [
  {
   "cell_type": "code",
   "execution_count": 2,
   "id": "10602e05",
   "metadata": {},
   "outputs": [
    {
     "name": "stdout",
     "output_type": "stream",
     "text": [
      "Requirement already satisfied: selenium in c:\\users\\user2\\anaconda3\\lib\\site-packages (3.141.0)\n",
      "Requirement already satisfied: urllib3 in c:\\users\\user2\\anaconda3\\lib\\site-packages (from selenium) (1.26.4)\n"
     ]
    }
   ],
   "source": [
    "!pip install selenium"
   ]
  },
  {
   "cell_type": "code",
   "execution_count": 3,
   "id": "78d007fa",
   "metadata": {},
   "outputs": [],
   "source": [
    "# 스레드 + 크롤링\n",
    "from flask import Flask, url_for, request, jsonify, redirect, Response\n",
    "from flask_cors import CORS, cross_origin\n",
    "\n",
    "import json\n",
    "import requests\n",
    "\n",
    "import selenium\n",
    "from selenium import webdriver\n",
    "from selenium.webdriver.common.keys import Keys\n",
    "\n",
    "import threading\n",
    "import time\n",
    "import logging\n",
    "\n",
    "import pickle"
   ]
  },
  {
   "cell_type": "code",
   "execution_count": 4,
   "id": "63d6e7cb",
   "metadata": {},
   "outputs": [],
   "source": [
    "CRAWLED_RES_SAVED_FILE = 'crawl_data/result'"
   ]
  },
  {
   "cell_type": "code",
   "execution_count": 11,
   "id": "15abf8a1",
   "metadata": {},
   "outputs": [],
   "source": [
    "# 기록용 스레드\n",
    "def record_thread(cond):\n",
    "    print(\"기록용 스레드 구동 시작!\")\n",
    "    cnt = 0\n",
    "    \n",
    "    while True:\n",
    "        if crawl_fin:\n",
    "            f = open(CRAWLED_RES_SAVED_FILE, 'wb')\n",
    "            #pickle.dump(hrefURL, f)\n",
    "            f.close()\n",
    "            \n",
    "        time.sleep(1)"
   ]
  },
  {
   "cell_type": "code",
   "execution_count": 6,
   "id": "5d9b00cf",
   "metadata": {},
   "outputs": [],
   "source": [
    "# 관리 스레드\n",
    "def thread_manager(cond):\n",
    "    print(\"스레드 매니저 구동 시작\")\n",
    "    \n",
    "    while True:\n",
    "        with cond:\n",
    "            if crawl_fin:\n",
    "                cond.notifyAll()\n",
    "                \n",
    "            time.sleep(1)"
   ]
  },
  {
   "cell_type": "code",
   "execution_count": 7,
   "id": "414a97e2",
   "metadata": {},
   "outputs": [],
   "source": [
    "# 크롤링 스레드\n",
    "def crawl_thread(cond, text):\n",
    "    global crawl_fin\n",
    "    crawl_fin = False\n",
    "    \n",
    "    print(\"크롤링 스레드 구동 시작!\")\n",
    "    \n",
    "    url = \"https://www.youtube.com/results?search_query=\"\n",
    "    \n",
    "    driver = webdriver.Chrome(r\"C:\\chromedriver.exe\")\n",
    "    \n",
    "    search_url = url + text\n",
    "    \n",
    "    while True:\n",
    "        with cond:\n",
    "            cnt = 0\n",
    "            driver.get(url = search_url)\n",
    "            \n",
    "            body = driver.find_element_by_tag_name('body')\n",
    "            \n",
    "            crawl_fin = True\n",
    "            cond.wait()\n",
    "            crawl_fin = False"
   ]
  },
  {
   "cell_type": "code",
   "execution_count": 12,
   "id": "58534610",
   "metadata": {},
   "outputs": [
    {
     "name": "stdout",
     "output_type": "stream",
     "text": [
      "크롤링 스레드 구동 시작!\n",
      "기록용 스레드 구동 시작!\n",
      "스레드 매니저 구동 시작\n"
     ]
    },
    {
     "name": "stderr",
     "output_type": "stream",
     "text": [
      "Exception in thread Crawler:\n",
      "Traceback (most recent call last):\n",
      "  File \"C:\\Users\\user2\\anaconda3\\lib\\threading.py\", line 932, in _bootstrap_inner\n",
      "    self.run()\n",
      "  File \"C:\\Users\\user2\\anaconda3\\lib\\threading.py\", line 870, in run\n",
      "    self._target(*self._args, **self._kwargs)\n",
      "  File \"<ipython-input-7-471b8dfe0bdd>\", line 17, in crawl_thread\n",
      "  File \"C:\\Users\\user2\\anaconda3\\lib\\site-packages\\selenium\\webdriver\\remote\\webdriver.py\", line 333, in get\n",
      "    self.execute(Command.GET, {'url': url})\n",
      "  File \"C:\\Users\\user2\\anaconda3\\lib\\site-packages\\selenium\\webdriver\\remote\\webdriver.py\", line 321, in execute\n",
      "    self.error_handler.check_response(response)\n",
      "  File \"C:\\Users\\user2\\anaconda3\\lib\\site-packages\\selenium\\webdriver\\remote\\errorhandler.py\", line 242, in check_response\n",
      "    raise exception_class(message, screen, stacktrace)\n",
      "selenium.common.exceptions.WebDriverException: Message: chrome not reachable\n",
      "  (Session info: chrome=101.0.4951.67)\n",
      "\n",
      "Exception in thread Crawler:\n",
      "Traceback (most recent call last):\n",
      "  File \"C:\\Users\\user2\\anaconda3\\lib\\threading.py\", line 932, in _bootstrap_inner\n",
      "    self.run()\n",
      "  File \"C:\\Users\\user2\\anaconda3\\lib\\threading.py\", line 870, in run\n",
      "    self._target(*self._args, **self._kwargs)\n",
      "  File \"<ipython-input-7-471b8dfe0bdd>\", line 17, in crawl_thread\n",
      "  File \"C:\\Users\\user2\\anaconda3\\lib\\site-packages\\selenium\\webdriver\\remote\\webdriver.py\", line 333, in get\n",
      "    self.execute(Command.GET, {'url': url})\n",
      "  File \"C:\\Users\\user2\\anaconda3\\lib\\site-packages\\selenium\\webdriver\\remote\\webdriver.py\", line 321, in execute\n",
      "    self.error_handler.check_response(response)\n",
      "  File \"C:\\Users\\user2\\anaconda3\\lib\\site-packages\\selenium\\webdriver\\remote\\errorhandler.py\", line 242, in check_response\n",
      "    raise exception_class(message, screen, stacktrace)\n",
      "selenium.common.exceptions.WebDriverException: Message: chrome not reachable\n",
      "  (Session info: chrome=101.0.4951.67)\n",
      "\n"
     ]
    }
   ],
   "source": [
    "if __name__ == '__main__':\n",
    "    cond = threading.Condition()\n",
    "    crawler = threading.Thread(name = 'Crawler', target = crawl_thread, args = (cond, '시고르자브종'))\n",
    "    recorder = threading.Thread(name = 'Recorder', target = record_thread, args = (cond, ))\n",
    "    manager = threading.Thread(name = 'Manager', target = thread_manager, args = (cond, ))\n",
    "    \n",
    "    crawler.start()\n",
    "    time.sleep(2)\n",
    "    recorder.start()\n",
    "    manager.start()"
   ]
  },
  {
   "cell_type": "code",
   "execution_count": null,
   "id": "1dec719c",
   "metadata": {},
   "outputs": [],
   "source": []
  }
 ],
 "metadata": {
  "kernelspec": {
   "display_name": "Python 3",
   "language": "python",
   "name": "python3"
  },
  "language_info": {
   "codemirror_mode": {
    "name": "ipython",
    "version": 3
   },
   "file_extension": ".py",
   "mimetype": "text/x-python",
   "name": "python",
   "nbconvert_exporter": "python",
   "pygments_lexer": "ipython3",
   "version": "3.8.8"
  }
 },
 "nbformat": 4,
 "nbformat_minor": 5
}
