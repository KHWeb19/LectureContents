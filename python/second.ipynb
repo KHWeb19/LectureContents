{
 "cells": [
  {
   "cell_type": "code",
   "execution_count": 1,
   "id": "432787d2",
   "metadata": {},
   "outputs": [
    {
     "name": "stdout",
     "output_type": "stream",
     "text": [
      "<function times at 0x00000251751EE9D0>\n",
      "100\n"
     ]
    }
   ],
   "source": [
    "# 함수(매서드) 만들기\n",
    "# 파이썬은 저번에도 봤듯이 클래스 없이 매서드만 만들 수도 있음\n",
    "def times(a, b):\n",
    "    return a * b\n",
    "\n",
    "# times 에서 나타나는 이상한 숫자의 정체는 무엇일까 ?\n",
    "# 객체(매서드)의 메모리 주소값\n",
    "print(times)\n",
    "print(times(10, 10))"
   ]
  },
  {
   "cell_type": "code",
   "execution_count": 2,
   "id": "e5949a80",
   "metadata": {},
   "outputs": [
    {
     "name": "stdout",
     "output_type": "stream",
     "text": [
      "100\n"
     ]
    }
   ],
   "source": [
    "pointerOfFunction = times\n",
    "res = pointerOfFunction(10, 10)\n",
    "print(res)"
   ]
  },
  {
   "cell_type": "code",
   "execution_count": 4,
   "id": "be806ec4",
   "metadata": {},
   "outputs": [
    {
     "name": "stdout",
     "output_type": "stream",
     "text": [
      "preList x: A\n",
      "preList x: p\n",
      "postList x: p\n",
      "preList x: p\n",
      "postList x: p\n",
      "preList x: l\n",
      "preList x: e\n",
      "postList x: e\n",
      "['p', 'p', 'e']\n",
      "preList x: A\n",
      "postList x: A\n",
      "preList x: p\n",
      "preList x: p\n",
      "preList x: l\n",
      "preList x: e\n",
      "['A']\n"
     ]
    }
   ],
   "source": [
    "def intersect(preList, postList):\n",
    "    retList = []\n",
    "    \n",
    "    for x in preList:\n",
    "        print(\"preList x:\", x)\n",
    "        if x in postList:\n",
    "            print(\"postList x:\", x)\n",
    "            retList.append(x)\n",
    "            \n",
    "    return retList\n",
    "\n",
    "list1 = \"Apple\"\n",
    "list2 = \"grape\"\n",
    "\n",
    "print(intersect(list1, list2))\n",
    "print(intersect(list1, ['H', 'A', 'M']))"
   ]
  },
  {
   "cell_type": "code",
   "execution_count": 5,
   "id": "2d74e82d",
   "metadata": {},
   "outputs": [
    {
     "name": "stdout",
     "output_type": "stream",
     "text": [
      "(7, 3)\n"
     ]
    }
   ],
   "source": [
    "def swap(x, y):\n",
    "    return y, x\n",
    "\n",
    "# 튜플은 왜 사용할까 ? java - final, c - const\n",
    "# 값의 변경을 방지하기 위해 (immutable) - 불변성!\n",
    "# 이 녀석은 궁극적으로 setter 를 쓰지말라와 연결됨\n",
    "# 해당 내용은 결국 협업하는 관점까지도 연결이 됨\n",
    "print(swap(3, 7))"
   ]
  },
  {
   "cell_type": "code",
   "execution_count": 6,
   "id": "9140e137",
   "metadata": {},
   "outputs": [
    {
     "name": "stdout",
     "output_type": "stream",
     "text": [
      "77\n",
      "33\n"
     ]
    }
   ],
   "source": [
    "a, b = swap(33, 77)\n",
    "print(a)\n",
    "print(b)"
   ]
  },
  {
   "cell_type": "code",
   "execution_count": 7,
   "id": "0ffaf09e",
   "metadata": {},
   "outputs": [
    {
     "name": "stdout",
     "output_type": "stream",
     "text": [
      "(777, 333)\n",
      "<class 'tuple'>\n"
     ]
    }
   ],
   "source": [
    "x = swap(333, 777)\n",
    "print(x)\n",
    "print(type(x))"
   ]
  },
  {
   "cell_type": "code",
   "execution_count": 8,
   "id": "ab9f6708",
   "metadata": {},
   "outputs": [
    {
     "name": "stdout",
     "output_type": "stream",
     "text": [
      "30\n"
     ]
    }
   ],
   "source": [
    "a = 10\n",
    "b = 20\n",
    "\n",
    "def sum_test(x, y):\n",
    "    return x + y\n",
    "\n",
    "print(sum_test(a, b))"
   ]
  },
  {
   "cell_type": "code",
   "execution_count": 9,
   "id": "73d226f9",
   "metadata": {},
   "outputs": [
    {
     "name": "stdout",
     "output_type": "stream",
     "text": [
      "11\n",
      "10\n"
     ]
    }
   ],
   "source": [
    "x = 10\n",
    "\n",
    "def sum_test2(x, y):\n",
    "    x = 1\n",
    "    return x + y\n",
    "\n",
    "print(sum_test2(x, x))\n",
    "print(x)"
   ]
  },
  {
   "cell_type": "code",
   "execution_count": 10,
   "id": "7f983feb",
   "metadata": {},
   "outputs": [
    {
     "name": "stdout",
     "output_type": "stream",
     "text": [
      "['J', 'A', 'M']\n",
      "['H', 'A', 'M']\n"
     ]
    }
   ],
   "source": [
    "def change(x):\n",
    "    x[0] = 'H'\n",
    "    \n",
    "wordList = ['J', 'A', 'M']\n",
    "print(wordList)\n",
    "\n",
    "change(wordList)\n",
    "print(wordList)"
   ]
  },
  {
   "cell_type": "code",
   "execution_count": 11,
   "id": "4d675dab",
   "metadata": {},
   "outputs": [
    {
     "name": "stdout",
     "output_type": "stream",
     "text": [
      "['J', 'A', 'M']\n",
      "['J', 'A', 'M']\n"
     ]
    }
   ],
   "source": [
    "def change2(x):\n",
    "    # 아래와 같은 방식의 복사는 서로 다른 메모리를 참조함\n",
    "    # 다른 객체가 되었음 (값은 복사됨)\n",
    "    x = x[:]\n",
    "    # 데이터는 바꾸지 않고 특정 가공을 하거나 처리를 해야하는 상황\n",
    "    x[0] = 'H'\n",
    "    \n",
    "wordList = ['J', 'A', 'M']\n",
    "print(wordList)\n",
    "\n",
    "change2(wordList)\n",
    "print(wordList)"
   ]
  },
  {
   "cell_type": "code",
   "execution_count": 12,
   "id": "e8a71321",
   "metadata": {},
   "outputs": [
    {
     "name": "stdout",
     "output_type": "stream",
     "text": [
      "1\n",
      "10\n",
      "7\n"
     ]
    }
   ],
   "source": [
    "glob = 1\n",
    "print(glob)\n",
    "\n",
    "def globScope(x):\n",
    "    global glob\n",
    "    glob = 7\n",
    "    return glob + x\n",
    "\n",
    "print(globScope(3))\n",
    "print(glob)"
   ]
  },
  {
   "cell_type": "code",
   "execution_count": 1,
   "id": "ef2b40d7",
   "metadata": {},
   "outputs": [
    {
     "name": "stdout",
     "output_type": "stream",
     "text": [
      "6\n"
     ]
    }
   ],
   "source": [
    "g = lambda x, y: x * y\n",
    "print(g(2, 3))"
   ]
  },
  {
   "cell_type": "code",
   "execution_count": 2,
   "id": "08a3fdb6",
   "metadata": {},
   "outputs": [
    {
     "name": "stdout",
     "output_type": "stream",
     "text": [
      "9\n"
     ]
    }
   ],
   "source": [
    "print((lambda x: x * x)(3))"
   ]
  },
  {
   "cell_type": "code",
   "execution_count": null,
   "id": "521f74c7",
   "metadata": {},
   "outputs": [],
   "source": []
  },
  {
   "cell_type": "code",
   "execution_count": 3,
   "id": "c55a3f26",
   "metadata": {},
   "outputs": [
    {
     "name": "stdout",
     "output_type": "stream",
     "text": [
      "11\n",
      " D 드라이브의 볼륨: 오후반_백업\n",
      " 볼륨 일련 번호: 74DA-56DC\n",
      "\n",
      " D:\\LectureContents-1\\python 디렉터리\n",
      "\n",
      "2022-05-13  오후 04:36    <DIR>          .\n",
      "2022-05-13  오후 04:36    <DIR>          ..\n",
      "2022-05-13  오후 03:41    <DIR>          .ipynb_checkpoints\n",
      "2022-05-12  오후 06:11            15,926 first.ipynb\n",
      "2022-05-13  오후 04:32             6,988 second.ipynb\n",
      "2022-05-13  오후 04:36                12 test.txt\n",
      "               3개 파일              22,926 바이트\n",
      "               3개 디렉터리  196,527,218,688 바이트 남음\n"
     ]
    }
   ],
   "source": [
    "# 파일 I/O 처리\n",
    "f = open('test.txt', 'w') # 'w' - 쓰기모드\n",
    "print(f.write('EDDI\\nPython'))\n",
    "f.close()\n",
    "\n",
    "# 윈도우의 경우\n",
    "!dir\n",
    "\n",
    "# 리눅스 or MaC\n",
    "#!ls"
   ]
  },
  {
   "cell_type": "code",
   "execution_count": 5,
   "id": "414f92d7",
   "metadata": {},
   "outputs": [
    {
     "name": "stdout",
     "output_type": "stream",
     "text": [
      "EDDI\n",
      "Python\n"
     ]
    }
   ],
   "source": [
    "# 잘 만들었는지 확인\n",
    "# 윈도우\n",
    "!type test.txt\n",
    "\n",
    "# 리눅스 or MaC\n",
    "#!cat test.txt"
   ]
  },
  {
   "cell_type": "code",
   "execution_count": 8,
   "id": "7e72b557",
   "metadata": {},
   "outputs": [
    {
     "name": "stdout",
     "output_type": "stream",
     "text": [
      "EDDI\n",
      "Python\n",
      "True\n"
     ]
    }
   ],
   "source": [
    "f = open('test.txt')\n",
    "print(f.read())\n",
    "f.close()\n",
    "print(f.closed)"
   ]
  },
  {
   "cell_type": "code",
   "execution_count": 9,
   "id": "1cc8c0d8",
   "metadata": {},
   "outputs": [
    {
     "name": "stdout",
     "output_type": "stream",
     "text": [
      "['EDDI\\n', 'Python']\n",
      "False\n",
      "True\n"
     ]
    }
   ],
   "source": [
    "with open('test.txt') as f:\n",
    "    print(f.readlines())\n",
    "    print(f.closed)\n",
    "    \n",
    "print(f.closed)"
   ]
  },
  {
   "cell_type": "code",
   "execution_count": 10,
   "id": "fa3749b2",
   "metadata": {},
   "outputs": [
    {
     "name": "stdout",
     "output_type": "stream",
     "text": [
      "['red', 'green', 'blue']\n"
     ]
    }
   ],
   "source": [
    "colors = ['red', 'green', 'blue']\n",
    "print(colors)\n",
    "\n",
    "def check_colors():\n",
    "    if 'colors' in globals():\n",
    "        print(\"True\")\n",
    "    else:\n",
    "        print(\"False\")"
   ]
  },
  {
   "cell_type": "code",
   "execution_count": 11,
   "id": "b4cb6e24",
   "metadata": {},
   "outputs": [
    {
     "name": "stdout",
     "output_type": "stream",
     "text": [
      "True\n"
     ]
    }
   ],
   "source": [
    "import pickle\n",
    "\n",
    "# write byte로 문자가 아닌 데이터 저장시 활용\n",
    "f = open('colors', 'wb')\n",
    "pickle.dump(colors, f)\n",
    "f.close()\n",
    "\n",
    "check_colors()"
   ]
  },
  {
   "cell_type": "code",
   "execution_count": 12,
   "id": "a3f7774e",
   "metadata": {},
   "outputs": [
    {
     "name": "stdout",
     "output_type": "stream",
     "text": [
      "False\n"
     ]
    }
   ],
   "source": [
    "# colors 정보를 증발시킴\n",
    "del colors\n",
    "\n",
    "check_colors()"
   ]
  },
  {
   "cell_type": "code",
   "execution_count": 14,
   "id": "19efc07a",
   "metadata": {},
   "outputs": [
    {
     "name": "stdout",
     "output_type": "stream",
     "text": [
      "['red', 'green', 'blue']\n",
      "True\n"
     ]
    }
   ],
   "source": [
    "f = open('colors', 'rb')\n",
    "colors = pickle.load(f)\n",
    "f.close()\n",
    "\n",
    "print(colors)\n",
    "check_colors()"
   ]
  },
  {
   "cell_type": "code",
   "execution_count": 15,
   "id": "0ef4aabf",
   "metadata": {
    "scrolled": true
   },
   "outputs": [
    {
     "data": {
      "text/plain": [
       "{'__name__': '__main__',\n",
       " '__doc__': 'Automatically created module for IPython interactive environment',\n",
       " '__package__': None,\n",
       " '__loader__': None,\n",
       " '__spec__': None,\n",
       " '__builtin__': <module 'builtins' (built-in)>,\n",
       " '__builtins__': <module 'builtins' (built-in)>,\n",
       " '_ih': ['',\n",
       "  'g = lambda x, y: x * y\\nprint(g(2, 3))',\n",
       "  'print((lambda x: x * x)(3))',\n",
       "  \"# 파일 I/O 처리\\nf = open('test.txt', 'w')\\nprint(f.write('EDDI\\\\nPython'))\\nf.close()\\n\\n# 윈도우의 경우\\nget_ipython().system('dir')\\n\\n# 리눅스 or MaC\\n#!ls\",\n",
       "  \"# 잘 만들었는지 확인\\n# 윈도우\\nget_ipython().system('type test.txt')\\n\\n# 리눅스 or MaC\\nget_ipython().system('cat test.txt')\",\n",
       "  \"# 잘 만들었는지 확인\\n# 윈도우\\nget_ipython().system('type test.txt')\\n\\n# 리눅스 or MaC\\n#!cat test.txt\",\n",
       "  \"f = open('test.txt')\\nprint(f.read())\\nf.close()\\nprint(f.closed())\",\n",
       "  \"f = open('test.txt')\\nprint(f.read())\\nf.close()\\nprint(f.closed\",\n",
       "  \"f = open('test.txt')\\nprint(f.read())\\nf.close()\\nprint(f.closed)\",\n",
       "  \"with open('test.txt') as f:\\n    print(f.readlines())\\n    print(f.closed)\\n    \\nprint(f.closed)\",\n",
       "  'colors = [\\'red\\', \\'green\\', \\'blue\\']\\nprint(colors)\\n\\ndef check_colors():\\n    if \\'colors\\' in globals():\\n        print(\"True\")\\n    else:\\n        print(\"False\")',\n",
       "  \"import pickle\\n\\n# write byte로 문자가 아닌 데이터 저장시 활용\\nf = open('colors', 'wb')\\npickle.dump(colors, f)\\nf.close()\\n\\ncheck_colors()\",\n",
       "  'del colors\\n\\ncheck_colors()',\n",
       "  \"f = open('colors', 'rb')\\ncolors = pickle.load(f)\\nf.close()\\n\\nprint(colors)\",\n",
       "  \"f = open('colors', 'rb')\\ncolors = pickle.load(f)\\nf.close()\\n\\nprint(colors)\\ncheck_colors()\",\n",
       "  'globals()'],\n",
       " '_oh': {},\n",
       " '_dh': ['D:\\\\LectureContents-1\\\\python'],\n",
       " 'In': ['',\n",
       "  'g = lambda x, y: x * y\\nprint(g(2, 3))',\n",
       "  'print((lambda x: x * x)(3))',\n",
       "  \"# 파일 I/O 처리\\nf = open('test.txt', 'w')\\nprint(f.write('EDDI\\\\nPython'))\\nf.close()\\n\\n# 윈도우의 경우\\nget_ipython().system('dir')\\n\\n# 리눅스 or MaC\\n#!ls\",\n",
       "  \"# 잘 만들었는지 확인\\n# 윈도우\\nget_ipython().system('type test.txt')\\n\\n# 리눅스 or MaC\\nget_ipython().system('cat test.txt')\",\n",
       "  \"# 잘 만들었는지 확인\\n# 윈도우\\nget_ipython().system('type test.txt')\\n\\n# 리눅스 or MaC\\n#!cat test.txt\",\n",
       "  \"f = open('test.txt')\\nprint(f.read())\\nf.close()\\nprint(f.closed())\",\n",
       "  \"f = open('test.txt')\\nprint(f.read())\\nf.close()\\nprint(f.closed\",\n",
       "  \"f = open('test.txt')\\nprint(f.read())\\nf.close()\\nprint(f.closed)\",\n",
       "  \"with open('test.txt') as f:\\n    print(f.readlines())\\n    print(f.closed)\\n    \\nprint(f.closed)\",\n",
       "  'colors = [\\'red\\', \\'green\\', \\'blue\\']\\nprint(colors)\\n\\ndef check_colors():\\n    if \\'colors\\' in globals():\\n        print(\"True\")\\n    else:\\n        print(\"False\")',\n",
       "  \"import pickle\\n\\n# write byte로 문자가 아닌 데이터 저장시 활용\\nf = open('colors', 'wb')\\npickle.dump(colors, f)\\nf.close()\\n\\ncheck_colors()\",\n",
       "  'del colors\\n\\ncheck_colors()',\n",
       "  \"f = open('colors', 'rb')\\ncolors = pickle.load(f)\\nf.close()\\n\\nprint(colors)\",\n",
       "  \"f = open('colors', 'rb')\\ncolors = pickle.load(f)\\nf.close()\\n\\nprint(colors)\\ncheck_colors()\",\n",
       "  'globals()'],\n",
       " 'Out': {},\n",
       " 'get_ipython': <bound method InteractiveShell.get_ipython of <ipykernel.zmqshell.ZMQInteractiveShell object at 0x0000023AE3E90F40>>,\n",
       " 'exit': <IPython.core.autocall.ZMQExitAutocall at 0x23ae3f215b0>,\n",
       " 'quit': <IPython.core.autocall.ZMQExitAutocall at 0x23ae3f215b0>,\n",
       " '_': '',\n",
       " '__': '',\n",
       " '___': '',\n",
       " '_i': \"f = open('colors', 'rb')\\ncolors = pickle.load(f)\\nf.close()\\n\\nprint(colors)\\ncheck_colors()\",\n",
       " '_ii': \"f = open('colors', 'rb')\\ncolors = pickle.load(f)\\nf.close()\\n\\nprint(colors)\",\n",
       " '_iii': 'del colors\\n\\ncheck_colors()',\n",
       " '_i1': 'g = lambda x, y: x * y\\nprint(g(2, 3))',\n",
       " 'g': <function __main__.<lambda>(x, y)>,\n",
       " '_i2': 'print((lambda x: x * x)(3))',\n",
       " '_i3': \"# 파일 I/O 처리\\nf = open('test.txt', 'w')\\nprint(f.write('EDDI\\\\nPython'))\\nf.close()\\n\\n# 윈도우의 경우\\n!dir\\n\\n# 리눅스 or MaC\\n#!ls\",\n",
       " 'f': <_io.BufferedReader name='colors'>,\n",
       " '_exit_code': 0,\n",
       " '_i4': '# 잘 만들었는지 확인\\n# 윈도우\\n!type test.txt\\n\\n# 리눅스 or MaC\\n!cat test.txt',\n",
       " '_i5': '# 잘 만들었는지 확인\\n# 윈도우\\n!type test.txt\\n\\n# 리눅스 or MaC\\n#!cat test.txt',\n",
       " '_i6': \"f = open('test.txt')\\nprint(f.read())\\nf.close()\\nprint(f.closed())\",\n",
       " '_i7': \"f = open('test.txt')\\nprint(f.read())\\nf.close()\\nprint(f.closed\",\n",
       " '_i8': \"f = open('test.txt')\\nprint(f.read())\\nf.close()\\nprint(f.closed)\",\n",
       " '_i9': \"with open('test.txt') as f:\\n    print(f.readlines())\\n    print(f.closed)\\n    \\nprint(f.closed)\",\n",
       " '_i10': 'colors = [\\'red\\', \\'green\\', \\'blue\\']\\nprint(colors)\\n\\ndef check_colors():\\n    if \\'colors\\' in globals():\\n        print(\"True\")\\n    else:\\n        print(\"False\")',\n",
       " 'check_colors': <function __main__.check_colors()>,\n",
       " '_i11': \"import pickle\\n\\n# write byte로 문자가 아닌 데이터 저장시 활용\\nf = open('colors', 'wb')\\npickle.dump(colors, f)\\nf.close()\\n\\ncheck_colors()\",\n",
       " 'pickle': <module 'pickle' from 'C:\\\\Users\\\\user2\\\\anaconda3\\\\lib\\\\pickle.py'>,\n",
       " '_i12': 'del colors\\n\\ncheck_colors()',\n",
       " '_i13': \"f = open('colors', 'rb')\\ncolors = pickle.load(f)\\nf.close()\\n\\nprint(colors)\",\n",
       " 'colors': ['red', 'green', 'blue'],\n",
       " '_i14': \"f = open('colors', 'rb')\\ncolors = pickle.load(f)\\nf.close()\\n\\nprint(colors)\\ncheck_colors()\",\n",
       " '_i15': 'globals()'}"
      ]
     },
     "execution_count": 15,
     "metadata": {},
     "output_type": "execute_result"
    }
   ],
   "source": [
    "globals()"
   ]
  },
  {
   "cell_type": "code",
   "execution_count": null,
   "id": "7e97a224",
   "metadata": {},
   "outputs": [],
   "source": []
  },
  {
   "cell_type": "code",
   "execution_count": 16,
   "id": "0cad02bf",
   "metadata": {},
   "outputs": [
    {
     "name": "stdout",
     "output_type": "stream",
     "text": [
      "이름은 기본값\n",
      "이름은 일단은 이렇게 막 설정합니다\n",
      "이름은 일단은 이렇게 막 설정합니다\n"
     ]
    }
   ],
   "source": [
    "# Python 클래스\n",
    "class Person:\n",
    "    name = \"기본값\"\n",
    "    \n",
    "    # 파이썬에서 매서드는 반드시 첫 번째 인자에 self 를 적어줄 것!\n",
    "    def print(self):\n",
    "        print(\"이름은 {0}\".format(self.name))\n",
    "        \n",
    "p1 = Person()\n",
    "p1.print()\n",
    "\n",
    "p1.name = \"일단은 이렇게 막 설정합니다\"\n",
    "p1.print()\n",
    "Person.print(p1)"
   ]
  },
  {
   "cell_type": "code",
   "execution_count": 17,
   "id": "53841064",
   "metadata": {},
   "outputs": [
    {
     "name": "stdout",
     "output_type": "stream",
     "text": [
      "p1 이름:  일단은 이렇게 막 설정합니다\n",
      "p2 이름:  기본값\n"
     ]
    }
   ],
   "source": [
    "p2 = Person()\n",
    "\n",
    "print(\"p1 이름: \", p1.name)\n",
    "print(\"p2 이름: \", p2.name)"
   ]
  },
  {
   "cell_type": "code",
   "execution_count": 18,
   "id": "cf80419f",
   "metadata": {},
   "outputs": [
    {
     "name": "stdout",
     "output_type": "stream",
     "text": [
      "p1 title:  파이썬은 이런게 됩니다.\n",
      "p2 title:  파이썬은 이런게 됩니다.\n",
      "Person title:  파이썬은 이런게 됩니다.\n"
     ]
    }
   ],
   "source": [
    "# 문법적으로는 가능하나 절대 해서는 안되는 행위\n",
    "Person.title = \"파이썬은 이런게 됩니다.\"\n",
    "print(\"p1 title: \", p1.title)\n",
    "print(\"p2 title: \", p2.title)\n",
    "print(\"Person title: \", Person.title)"
   ]
  },
  {
   "cell_type": "code",
   "execution_count": 20,
   "id": "d6e2a1f6",
   "metadata": {},
   "outputs": [
    {
     "name": "stdout",
     "output_type": "stream",
     "text": [
      "클래스 멤버 아님\n",
      "테스트 메시지\n"
     ]
    }
   ],
   "source": [
    "str1 = \"클래스 멤버 아님\"\n",
    "\n",
    "class NonSelfTest:\n",
    "    str1 = \"\"\n",
    "    \n",
    "    def setFunc(self, msg):\n",
    "        self.str1 = msg\n",
    "        \n",
    "    # self 를 사용해서 멤버 변수를 제어하라는 뜻\n",
    "    def print(self):\n",
    "        print(str1)\n",
    "        print(self.str1)\n",
    "        \n",
    "test = NonSelfTest()\n",
    "test.setFunc(\"테스트 메시지\")\n",
    "test.print()"
   ]
  },
  {
   "cell_type": "code",
   "execution_count": 22,
   "id": "11693ce7",
   "metadata": {},
   "outputs": [
    {
     "name": "stdout",
     "output_type": "stream",
     "text": [
      "클래스 생성! value = 333\n",
      "클래스 파괴!\n",
      "나는 여기서 나와요!\n"
     ]
    }
   ],
   "source": [
    "class Vehicles:\n",
    "    # 생성자\n",
    "    def __init__(self, value):\n",
    "        self.value = value\n",
    "        print(\"클래스 생성! value =\", value)\n",
    "        \n",
    "    # 소멸자\n",
    "    def __del__(self):\n",
    "        print(\"클래스 파괴!\")\n",
    "        \n",
    "def test():\n",
    "    v = Vehicles(333)\n",
    "    \n",
    "test()\n",
    "print('나는 여기서 나와요!')"
   ]
  },
  {
   "cell_type": "code",
   "execution_count": 23,
   "id": "0df1c593",
   "metadata": {},
   "outputs": [
    {
     "name": "stdout",
     "output_type": "stream",
     "text": [
      "{'name': 'Gogosing', 'phoneNum': '045-607-1853'}\n",
      "{'name': 'Test', 'phoneNum': '406-708-3821', 'major': '컴퓨터공학', 'studentId': '7283491'}\n"
     ]
    }
   ],
   "source": [
    "class Person:\n",
    "    def __init__(self, name, phoneNum):\n",
    "        self.name = name\n",
    "        self.phoneNum = phoneNum\n",
    "        \n",
    "    def print(self):\n",
    "        print(\"이름은 {0}, 연락처 {1}\".format(self.name, self.phoneNum))\n",
    "        \n",
    "# Student(Person)\n",
    "# 파이썬은 상속을 아래와 같이\n",
    "# 상속받을클래스(상속할클래스)  형태로 작성합니다.\n",
    "class Student(Person):\n",
    "    def __init__(self, name, phoneNum, major, studentId):\n",
    "        self.name = name\n",
    "        self.phoneNum = phoneNum\n",
    "        self.major = major\n",
    "        self.studentId = studentId\n",
    "        \n",
    "p = Person(\"Gogosing\", \"045-607-1853\")\n",
    "s = Student(\"Test\", \"406-708-3821\", \"컴퓨터공학\", \"7283491\")\n",
    "\n",
    "# __dict__ 는 객체에 관련한 모든 정보를 출력함\n",
    "# Java 로 치면 toString() 형태라고 보면됨\n",
    "print(p.__dict__)\n",
    "print(s.__dict__)"
   ]
  },
  {
   "cell_type": "code",
   "execution_count": 28,
   "id": "0b2421b5",
   "metadata": {},
   "outputs": [
    {
     "name": "stdout",
     "output_type": "stream",
     "text": [
      "부모 클래스 - number: 7\n",
      "자식 클래스 - number: 3, number2: 7\n",
      "p2 title:  이건 어떻게 막을까 ?\n",
      "Child title:  이건 어떻게 막을까 ?\n",
      "자식 클래스 - number: 3, number2: 33\n"
     ]
    }
   ],
   "source": [
    "class Parent:\n",
    "    def __init__(self, number):\n",
    "        self.number = number\n",
    "        \n",
    "    def printMsg(self):\n",
    "        print(\"부모 클래스 - number:\", self.number)\n",
    "        \n",
    "class Child(Parent):\n",
    "    def __init__(self, number, number2):\n",
    "        # 상위의 생성자 호출\n",
    "        super(Child, self).__init__(number)\n",
    "        self.number2 = number2\n",
    "        \n",
    "    def printMsg(self):\n",
    "        print(\"자식 클래스 - number: {0}, number2: {1}\".format(self.number, self.number2))\n",
    "        \n",
    "p = Parent(7)\n",
    "p.printMsg()\n",
    "\n",
    "c = Child(3, 7)\n",
    "c.printMsg()\n",
    "\n",
    "# 이건 해서는 안되는 것\n",
    "Child.title = \"이건 어떻게 막을까 ?\"\n",
    "print(\"p2 title: \", c.title)\n",
    "print(\"Child title: \", Child.title)\n",
    "\n",
    "# 여전히 못막는거\n",
    "c.number2 = 33\n",
    "c.printMsg()"
   ]
  },
  {
   "cell_type": "code",
   "execution_count": 29,
   "id": "e2f2c305",
   "metadata": {},
   "outputs": [
    {
     "name": "stdout",
     "output_type": "stream",
     "text": [
      "3\n",
      "요래요래\n"
     ]
    },
    {
     "ename": "AttributeError",
     "evalue": "'DummyTestClass' object has no attribute '__var3'",
     "output_type": "error",
     "traceback": [
      "\u001b[1;31m---------------------------------------------------------------------------\u001b[0m",
      "\u001b[1;31mAttributeError\u001b[0m                            Traceback (most recent call last)",
      "\u001b[1;32m<ipython-input-29-be106df3ac9a>\u001b[0m in \u001b[0;36m<module>\u001b[1;34m\u001b[0m\n\u001b[0;32m      9\u001b[0m \u001b[0mprint\u001b[0m\u001b[1;33m(\u001b[0m\u001b[0mdtc\u001b[0m\u001b[1;33m.\u001b[0m\u001b[0mvar1\u001b[0m\u001b[1;33m)\u001b[0m\u001b[1;33m\u001b[0m\u001b[1;33m\u001b[0m\u001b[0m\n\u001b[0;32m     10\u001b[0m \u001b[0mprint\u001b[0m\u001b[1;33m(\u001b[0m\u001b[0mdtc\u001b[0m\u001b[1;33m.\u001b[0m\u001b[0m_var2\u001b[0m\u001b[1;33m)\u001b[0m\u001b[1;33m\u001b[0m\u001b[1;33m\u001b[0m\u001b[0m\n\u001b[1;32m---> 11\u001b[1;33m \u001b[0mprint\u001b[0m\u001b[1;33m(\u001b[0m\u001b[0mdtc\u001b[0m\u001b[1;33m.\u001b[0m\u001b[0m__var3\u001b[0m\u001b[1;33m)\u001b[0m\u001b[1;33m\u001b[0m\u001b[1;33m\u001b[0m\u001b[0m\n\u001b[0m",
      "\u001b[1;31mAttributeError\u001b[0m: 'DummyTestClass' object has no attribute '__var3'"
     ]
    }
   ],
   "source": [
    "class DummyTestClass:\n",
    "    def __init__(self):\n",
    "        self.var1 = 3\n",
    "        self._var2 = '요래요래'\n",
    "        self.__var3 = '방어'\n",
    "        \n",
    "dtc = DummyTestClass()\n",
    "\n",
    "print(dtc.var1)\n",
    "print(dtc._var2)\n",
    "# __ 가 2개 붙으면 private\n",
    "print(dtc.__var3)"
   ]
  },
  {
   "cell_type": "code",
   "execution_count": 31,
   "id": "7d3240fe",
   "metadata": {},
   "outputs": [
    {
     "name": "stdout",
     "output_type": "stream",
     "text": [
      "방어\n"
     ]
    }
   ],
   "source": [
    "# 이와 같이 _클래스명__private변수명으로 볼 수 있다.\n",
    "print(dtc._DummyTestClass__var3)"
   ]
  },
  {
   "cell_type": "code",
   "execution_count": null,
   "id": "cd29c926",
   "metadata": {},
   "outputs": [],
   "source": []
  }
 ],
 "metadata": {
  "kernelspec": {
   "display_name": "Python 3",
   "language": "python",
   "name": "python3"
  },
  "language_info": {
   "codemirror_mode": {
    "name": "ipython",
    "version": 3
   },
   "file_extension": ".py",
   "mimetype": "text/x-python",
   "name": "python",
   "nbconvert_exporter": "python",
   "pygments_lexer": "ipython3",
   "version": "3.8.8"
  }
 },
 "nbformat": 4,
 "nbformat_minor": 5
}
