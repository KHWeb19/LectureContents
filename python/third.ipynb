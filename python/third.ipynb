{
 "cells": [
  {
   "cell_type": "code",
   "execution_count": 1,
   "id": "3c77ea13",
   "metadata": {},
   "outputs": [],
   "source": [
    "# MaC 혹은 Linux 는 요렇게\n",
    "import time\n",
    "import multiprocessing\n",
    "\n",
    "def count_down(x):\n",
    "    while True:\n",
    "        if x == 0:\n",
    "            break\n",
    "            \n",
    "        print(\"카운트 다운 ... %d\" % x)\n",
    "        x -= 1\n",
    "        time.sleep(1)\n",
    "        \n",
    "p = multiprocessing.Process(target=count_down, args=(5,))\n",
    "p.start()"
   ]
  },
  {
   "cell_type": "code",
   "execution_count": 3,
   "id": "fdaaae04",
   "metadata": {},
   "outputs": [
    {
     "name": "stdout",
     "output_type": "stream",
     "text": [
      "<Process name='Process-3' parent=6840 initial>\n"
     ]
    }
   ],
   "source": [
    "# Windows 는 요렇게\n",
    "import time\n",
    "import multiprocessing\n",
    "\n",
    "def count_down(x):\n",
    "    while True:\n",
    "        if x == 0:\n",
    "            break\n",
    "            \n",
    "        print(\"카운트 다운 ... %d\" % x)\n",
    "        x -= 1\n",
    "        time.sleep(1)\n",
    "\n",
    "if __name__ == '__main__':\n",
    "    p = multiprocessing.Process(target=count_down, args=(5,))\n",
    "    print(p)\n",
    "    p.start()\n",
    "    p.join()"
   ]
  },
  {
   "cell_type": "code",
   "execution_count": null,
   "id": "16eda3b6",
   "metadata": {},
   "outputs": [],
   "source": [
    "# 프로세스 리스트\n",
    "# 아래거 안되면 !ps -alx\n",
    "# !ps -ef "
   ]
  },
  {
   "cell_type": "code",
   "execution_count": null,
   "id": "9b6ed1aa",
   "metadata": {},
   "outputs": [],
   "source": [
    "# Task 가 CPU 의 추상화인 이유는 ?\n",
    "# 동시에 작동한다 ? ---> 정말 동시에 작동하는가 ?\n",
    "# Multi-Tasking (멀티 태스킹) ---> 실제로는 시분할로 동작\n",
    "# 실제로 우리가 구동시키는 모든 프로그램들은 전부 다 하나도 빠짐없이 모두 기계어로 구동된다.\n",
    "# 이 기계어를 구동시킬 수 있는 녀석은 유일하게 CPU 뿐이다.\n",
    "# 결국 이놈들이 시분할로 동작하면서 경쟁하는 이유는 뭐다 ?\n",
    "# CPU 자원이 한정되어 있기 때문에"
   ]
  },
  {
   "cell_type": "code",
   "execution_count": 13,
   "id": "b227f17b",
   "metadata": {},
   "outputs": [
    {
     "name": "stdout",
     "output_type": "stream",
     "text": [
      "안녕!\n",
      "module name: __main__\n",
      "process id: 6840\n",
      "thread id: 10920\n",
      "이런식으로 많이 집어넣으면 Context Switching 도 직접 확인 가능\n",
      "안녕!\n",
      "module name: 안녕!\n",
      "__main__\n",
      "process id: 6840\n",
      "thread id: 13604\n",
      "안녕!이런식으로 많이 집어넣으면 Context Switching 도 직접 확인 가능\n",
      "module name: __main__\n",
      "process id: 6840\n",
      "thread id: 3104\n",
      "이런식으로 많이 집어넣으면 Context Switching 도 직접 확인 가능\n",
      "안녕!\n",
      "module name: __main__\n",
      "process id: 6840\n",
      "thread id: 1956\n",
      "이런식으로 많이 집어넣으면 Context Switching 도 직접 확인 가능\n",
      "\n",
      "module name: __main__\n",
      "process id: 6840\n",
      "thread id: 7632\n",
      "이런식으로 많이 집어넣으면 Context Switching 도 직접 확인 가능\n",
      "잠자다 일어나기\n",
      "\n",
      "잠자다 일어나기\n",
      "잠자다 일어나기\n",
      "\n",
      "\n",
      "잠자다 일어나기\n",
      "잠자다 일어나기\n",
      "\n",
      "\n",
      "종료:  1.2초\n"
     ]
    }
   ],
   "source": [
    "import threading\n",
    "import os\n",
    "\n",
    "def info():\n",
    "    print('module name:', __name__)\n",
    "    print('process id:', os.getpid())\n",
    "    print('thread id:', threading.get_ident())\n",
    "    print('이런식으로 많이 집어넣으면 Context Switching 도 직접 확인 가능')\n",
    "\n",
    "def print_hello():\n",
    "    print(\"안녕!\")\n",
    "    info()\n",
    "    time.sleep(1)\n",
    "    print(\"잠자다 일어나기\\n\")\n",
    "    \n",
    "if __name__ == '__main__':\n",
    "    start = time.perf_counter()\n",
    "    threads = []\n",
    "    \n",
    "    for _ in range(5):\n",
    "        t = threading.Thread(target = print_hello)\n",
    "        t.start()\n",
    "        threads.append(t)\n",
    "        \n",
    "    for thread in threads:\n",
    "        thread.join()\n",
    "        \n",
    "    finish = time.perf_counter()\n",
    "    \n",
    "    print('종료: ', str(round(finish - start, 2)) + \"초\")"
   ]
  },
  {
   "cell_type": "code",
   "execution_count": null,
   "id": "00116c30",
   "metadata": {},
   "outputs": [],
   "source": []
  },
  {
   "cell_type": "code",
   "execution_count": null,
   "id": "cdb5a672",
   "metadata": {},
   "outputs": [],
   "source": []
  },
  {
   "cell_type": "code",
   "execution_count": null,
   "id": "0ba7b810",
   "metadata": {},
   "outputs": [],
   "source": []
  }
 ],
 "metadata": {
  "kernelspec": {
   "display_name": "Python 3",
   "language": "python",
   "name": "python3"
  },
  "language_info": {
   "codemirror_mode": {
    "name": "ipython",
    "version": 3
   },
   "file_extension": ".py",
   "mimetype": "text/x-python",
   "name": "python",
   "nbconvert_exporter": "python",
   "pygments_lexer": "ipython3",
   "version": "3.8.8"
  }
 },
 "nbformat": 4,
 "nbformat_minor": 5
}
