{
 "cells": [
  {
   "cell_type": "code",
   "execution_count": 1,
   "id": "c975ce6f",
   "metadata": {},
   "outputs": [],
   "source": [
    "# MaC 혹은 Linux 는 요렇게\n",
    "import time\n",
    "import multiprocessing\n",
    "\n",
    "def count_down(x):\n",
    "    while True:\n",
    "        if x == 0:\n",
    "            break\n",
    "            \n",
    "        print(\"카운트 다운 ... %d\" % x)\n",
    "        x -= 1\n",
    "        time.sleep(1)\n",
    "        \n",
    "p = multiprocessing.Process(target=count_down, args=(5,))\n",
    "p.start()"
   ]
  },
  {
   "cell_type": "code",
   "execution_count": 3,
   "id": "d57aa969",
   "metadata": {},
   "outputs": [
    {
     "name": "stdout",
     "output_type": "stream",
     "text": [
      "<Process name='Process-3' parent=6840 initial>\n"
     ]
    }
   ],
   "source": [
    "# Windows 는 요렇게\n",
    "import time\n",
    "import multiprocessing\n",
    "\n",
    "def count_down(x):\n",
    "    while True:\n",
    "        if x == 0:\n",
    "            break\n",
    "            \n",
    "        print(\"카운트 다운 ... %d\" % x)\n",
    "        x -= 1\n",
    "        time.sleep(1)\n",
    "\n",
    "if __name__ == '__main__':\n",
    "    p = multiprocessing.Process(target=count_down, args=(5,))\n",
    "    print(p)\n",
    "    p.start()\n",
    "    p.join()"
   ]
  },
  {
   "cell_type": "code",
   "execution_count": null,
   "id": "67b0b9ca",
   "metadata": {},
   "outputs": [],
   "source": []
  }
 ],
 "metadata": {
  "kernelspec": {
   "display_name": "Python 3",
   "language": "python",
   "name": "python3"
  },
  "language_info": {
   "codemirror_mode": {
    "name": "ipython",
    "version": 3
   },
   "file_extension": ".py",
   "mimetype": "text/x-python",
   "name": "python",
   "nbconvert_exporter": "python",
   "pygments_lexer": "ipython3",
   "version": "3.8.8"
  }
 },
 "nbformat": 4,
 "nbformat_minor": 5
}
