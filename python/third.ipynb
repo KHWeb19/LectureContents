{
 "cells": [
  {
   "cell_type": "code",
   "execution_count": 1,
   "id": "6a77423d",
   "metadata": {},
   "outputs": [],
   "source": [
    "# MaC 혹은 Linux 는 요렇게\n",
    "import time\n",
    "import multiprocessing\n",
    "\n",
    "def count_down(x):\n",
    "    while True:\n",
    "        if x == 0:\n",
    "            break\n",
    "            \n",
    "        print(\"카운트 다운 ... %d\" % x)\n",
    "        x -= 1\n",
    "        time.sleep(1)\n",
    "        \n",
    "p = multiprocessing.Process(target=count_down, args=(5,))\n",
    "p.start()"
   ]
  },
  {
   "cell_type": "code",
   "execution_count": 3,
   "id": "4d6e8202",
   "metadata": {},
   "outputs": [
    {
     "name": "stdout",
     "output_type": "stream",
     "text": [
      "<Process name='Process-3' parent=6840 initial>\n"
     ]
    }
   ],
   "source": [
    "# Windows 는 요렇게\n",
    "import time\n",
    "import multiprocessing\n",
    "\n",
    "def count_down(x):\n",
    "    while True:\n",
    "        if x == 0:\n",
    "            break\n",
    "            \n",
    "        print(\"카운트 다운 ... %d\" % x)\n",
    "        x -= 1\n",
    "        time.sleep(1)\n",
    "\n",
    "if __name__ == '__main__':\n",
    "    p = multiprocessing.Process(target=count_down, args=(5,))\n",
    "    print(p)\n",
    "    p.start()\n",
    "    p.join()"
   ]
  },
  {
   "cell_type": "code",
   "execution_count": null,
   "id": "f6ebbe2d",
   "metadata": {},
   "outputs": [],
   "source": [
    "# 프로세스 리스트\n",
    "# 아래거 안되면 !ps -alx\n",
    "# !ps -ef "
   ]
  },
  {
   "cell_type": "code",
   "execution_count": null,
   "id": "b3c8b888",
   "metadata": {},
   "outputs": [],
   "source": [
    "# Task 가 CPU 의 추상화인 이유는 ?\n",
    "# 동시에 작동한다 ? ---> 정말 동시에 작동하는가 ?\n",
    "# Multi-Tasking (멀티 태스킹) ---> 실제로는 시분할로 동작\n",
    "# 실제로 우리가 구동시키는 모든 프로그램들은 전부 다 하나도 빠짐없이 모두 기계어로 구동된다.\n",
    "# 이 기계어를 구동시킬 수 있는 녀석은 유일하게 CPU 뿐이다.\n",
    "# 결국 이놈들이 시분할로 동작하면서 경쟁하는 이유는 뭐다 ?\n",
    "# CPU 자원이 한정되어 있기 때문에"
   ]
  },
  {
   "cell_type": "code",
   "execution_count": 13,
   "id": "90665a5b",
   "metadata": {},
   "outputs": [
    {
     "name": "stdout",
     "output_type": "stream",
     "text": [
      "안녕!\n",
      "module name: __main__\n",
      "process id: 6840\n",
      "thread id: 10920\n",
      "이런식으로 많이 집어넣으면 Context Switching 도 직접 확인 가능\n",
      "안녕!\n",
      "module name: 안녕!\n",
      "__main__\n",
      "process id: 6840\n",
      "thread id: 13604\n",
      "안녕!이런식으로 많이 집어넣으면 Context Switching 도 직접 확인 가능\n",
      "module name: __main__\n",
      "process id: 6840\n",
      "thread id: 3104\n",
      "이런식으로 많이 집어넣으면 Context Switching 도 직접 확인 가능\n",
      "안녕!\n",
      "module name: __main__\n",
      "process id: 6840\n",
      "thread id: 1956\n",
      "이런식으로 많이 집어넣으면 Context Switching 도 직접 확인 가능\n",
      "\n",
      "module name: __main__\n",
      "process id: 6840\n",
      "thread id: 7632\n",
      "이런식으로 많이 집어넣으면 Context Switching 도 직접 확인 가능\n",
      "잠자다 일어나기\n",
      "\n",
      "잠자다 일어나기\n",
      "잠자다 일어나기\n",
      "\n",
      "\n",
      "잠자다 일어나기\n",
      "잠자다 일어나기\n",
      "\n",
      "\n",
      "종료:  1.2초\n"
     ]
    }
   ],
   "source": [
    "import threading\n",
    "import os\n",
    "\n",
    "def info():\n",
    "    print('module name:', __name__)\n",
    "    print('process id:', os.getpid())\n",
    "    print('thread id:', threading.get_ident())\n",
    "    print('이런식으로 많이 집어넣으면 Context Switching 도 직접 확인 가능')\n",
    "\n",
    "def print_hello():\n",
    "    print(\"안녕!\")\n",
    "    info()\n",
    "    time.sleep(1)\n",
    "    print(\"잠자다 일어나기\\n\")\n",
    "    \n",
    "if __name__ == '__main__':\n",
    "    start = time.perf_counter()\n",
    "    threads = []\n",
    "    \n",
    "    for _ in range(5):\n",
    "        t = threading.Thread(target = print_hello)\n",
    "        t.start()\n",
    "        threads.append(t)\n",
    "        \n",
    "    for thread in threads:\n",
    "        thread.join()\n",
    "        \n",
    "    finish = time.perf_counter()\n",
    "    \n",
    "    print('종료: ', str(round(finish - start, 2)) + \"초\")"
   ]
  },
  {
   "cell_type": "code",
   "execution_count": 16,
   "id": "6ca0bd62",
   "metadata": {},
   "outputs": [
    {
     "name": "stdout",
     "output_type": "stream",
     "text": [
      "0 번째 반복 이후 x = 1503728\n",
      "1 번째 반복 이후 x = 1662234\n",
      "2 번째 반복 이후 x = 1750692\n",
      "3 번째 반복 이후 x = 1570031\n",
      "4 번째 반복 이후 x = 1898792\n",
      "5 번째 반복 이후 x = 1754727\n",
      "6 번째 반복 이후 x = 1566280\n",
      "7 번째 반복 이후 x = 1738319\n",
      "8 번째 반복 이후 x = 1881651\n",
      "9 번째 반복 이후 x = 1488451\n"
     ]
    }
   ],
   "source": [
    "import threading\n",
    "\n",
    "x = 0\n",
    "\n",
    "def increment_global():\n",
    "    global x\n",
    "    x += 1\n",
    "    \n",
    "def thread_processing():\n",
    "    for _ in range(1000000):\n",
    "        increment_global()\n",
    "        \n",
    "def thread_main():\n",
    "    global x \n",
    "    x = 0\n",
    "    \n",
    "    t1 = threading.Thread(target = thread_processing)\n",
    "    t2 = threading.Thread(target = thread_processing)\n",
    "    \n",
    "    t1.start()\n",
    "    t2.start()\n",
    "    \n",
    "    t1.join()\n",
    "    t2.join()\n",
    "    \n",
    "for i in range(10):\n",
    "    thread_main()\n",
    "    print(\"{0} 번째 반복 이후 x = {1}\".format(i, x))"
   ]
  },
  {
   "cell_type": "code",
   "execution_count": 17,
   "id": "4a366cec",
   "metadata": {},
   "outputs": [
    {
     "name": "stdout",
     "output_type": "stream",
     "text": [
      "0 번째 반복 이후 x = 2000000\n",
      "1 번째 반복 이후 x = 2000000\n",
      "2 번째 반복 이후 x = 2000000\n",
      "3 번째 반복 이후 x = 2000000\n",
      "4 번째 반복 이후 x = 2000000\n",
      "5 번째 반복 이후 x = 2000000\n",
      "6 번째 반복 이후 x = 2000000\n",
      "7 번째 반복 이후 x = 2000000\n",
      "8 번째 반복 이후 x = 2000000\n",
      "9 번째 반복 이후 x = 2000000\n"
     ]
    }
   ],
   "source": [
    "import threading\n",
    "\n",
    "lock = threading.Lock()\n",
    "\n",
    "x = 0\n",
    "\n",
    "def increment_global():\n",
    "    global x\n",
    "    x += 1\n",
    "    \n",
    "def thread_processing():\n",
    "    for _ in range(1000000):\n",
    "        lock.acquire()\n",
    "        increment_global()\n",
    "        lock.release()\n",
    "        \n",
    "def thread_main():\n",
    "    global x \n",
    "    x = 0\n",
    "    \n",
    "    t1 = threading.Thread(target = thread_processing)\n",
    "    t2 = threading.Thread(target = thread_processing)\n",
    "    \n",
    "    t1.start()\n",
    "    t2.start()\n",
    "    \n",
    "    t1.join()\n",
    "    t2.join()\n",
    "    \n",
    "for i in range(10):\n",
    "    thread_main()\n",
    "    print(\"{0} 번째 반복 이후 x = {1}\".format(i, x))"
   ]
  },
  {
   "cell_type": "code",
   "execution_count": 18,
   "id": "652c8e64",
   "metadata": {},
   "outputs": [
    {
     "name": "stdout",
     "output_type": "stream",
     "text": [
      "0 번째 반복 이후 x = 2000000\n",
      "1 번째 반복 이후 x = 2000000\n",
      "2 번째 반복 이후 x = 2000000\n",
      "3 번째 반복 이후 x = 2000000\n",
      "4 번째 반복 이후 x = 2000000\n",
      "5 번째 반복 이후 x = 2000000\n",
      "6 번째 반복 이후 x = 2000000\n",
      "7 번째 반복 이후 x = 2000000\n",
      "8 번째 반복 이후 x = 2000000\n",
      "9 번째 반복 이후 x = 2000000\n"
     ]
    }
   ],
   "source": [
    "import threading\n",
    "\n",
    "lock = threading.Lock()\n",
    "\n",
    "x = 0\n",
    "\n",
    "def increment_global():\n",
    "    global x\n",
    "    x += 1\n",
    "    \n",
    "def thread_processing():\n",
    "    lock.acquire()\n",
    "    \n",
    "    for _ in range(1000000):\n",
    "        increment_global()\n",
    "        \n",
    "    lock.release()\n",
    "        \n",
    "def thread_main():\n",
    "    global x \n",
    "    x = 0\n",
    "    \n",
    "    t1 = threading.Thread(target = thread_processing)\n",
    "    t2 = threading.Thread(target = thread_processing)\n",
    "    \n",
    "    t1.start()\n",
    "    t2.start()\n",
    "    \n",
    "    t1.join()\n",
    "    t2.join()\n",
    "    \n",
    "for i in range(10):\n",
    "    thread_main()\n",
    "    print(\"{0} 번째 반복 이후 x = {1}\".format(i, x))"
   ]
  },
  {
   "cell_type": "code",
   "execution_count": null,
   "id": "1d6d4798",
   "metadata": {},
   "outputs": [],
   "source": []
  },
  {
   "cell_type": "code",
   "execution_count": 19,
   "id": "04d5baf4",
   "metadata": {},
   "outputs": [
    {
     "name": "stdout",
     "output_type": "stream",
     "text": [
      "Requirement already satisfied: pymysql in c:\\users\\user2\\anaconda3\\lib\\site-packages (1.0.2)\n"
     ]
    }
   ],
   "source": [
    "# MySQL with Python\n",
    "!pip install pymysql"
   ]
  },
  {
   "cell_type": "code",
   "execution_count": 20,
   "id": "cc25b038",
   "metadata": {},
   "outputs": [],
   "source": [
    "import pymysql"
   ]
  },
  {
   "cell_type": "code",
   "execution_count": 21,
   "id": "921fb1d2",
   "metadata": {},
   "outputs": [],
   "source": [
    "MYSQL_USER_DATA_SAVED_FILE = \"mysql/userinfo\""
   ]
  },
  {
   "cell_type": "code",
   "execution_count": 25,
   "id": "3aec92fb",
   "metadata": {},
   "outputs": [],
   "source": [
    "import pickle\n",
    "\n",
    "mysql_user_info = dict({\n",
    "    'user_id': 'eddi',\n",
    "    'password': 'eddi@123'\n",
    "})\n",
    "\n",
    "f = open(MYSQL_USER_DATA_SAVED_FILE, 'wb')\n",
    "pickle.dump(mysql_user_info, f)\n",
    "f.close()\n",
    "\n",
    "del mysql_user_info"
   ]
  },
  {
   "cell_type": "code",
   "execution_count": 27,
   "id": "18b158e3",
   "metadata": {},
   "outputs": [],
   "source": [
    "import pickle\n",
    "\n",
    "f = open(MYSQL_USER_DATA_SAVED_FILE, 'rb')\n",
    "mysql_user_info = pickle.load(f)\n",
    "f.close()"
   ]
  },
  {
   "cell_type": "code",
   "execution_count": 28,
   "id": "203b010f",
   "metadata": {},
   "outputs": [
    {
     "name": "stdout",
     "output_type": "stream",
     "text": [
      "<pymysql.connections.Connection object at 0x000001FEF7ABB460>\n"
     ]
    }
   ],
   "source": [
    "db = pymysql.connect(\n",
    "    host = '127.0.0.1',\n",
    "    port = 3306,\n",
    "    user = mysql_user_info['user_id'],\n",
    "    passwd = mysql_user_info['password'],\n",
    "    # 여기서 사용할 스키마 하나 생성!\n",
    "    db = 'pydb'\n",
    ")\n",
    "\n",
    "print(db)"
   ]
  },
  {
   "cell_type": "code",
   "execution_count": null,
   "id": "517ef046",
   "metadata": {},
   "outputs": [],
   "source": []
  },
  {
   "cell_type": "code",
   "execution_count": null,
   "id": "333d1fae",
   "metadata": {},
   "outputs": [],
   "source": []
  },
  {
   "cell_type": "code",
   "execution_count": null,
   "id": "f06189d5",
   "metadata": {},
   "outputs": [],
   "source": []
  },
  {
   "cell_type": "code",
   "execution_count": null,
   "id": "abcfe50f",
   "metadata": {},
   "outputs": [],
   "source": []
  }
 ],
 "metadata": {
  "kernelspec": {
   "display_name": "Python 3",
   "language": "python",
   "name": "python3"
  },
  "language_info": {
   "codemirror_mode": {
    "name": "ipython",
    "version": 3
   },
   "file_extension": ".py",
   "mimetype": "text/x-python",
   "name": "python",
   "nbconvert_exporter": "python",
   "pygments_lexer": "ipython3",
   "version": "3.8.8"
  }
 },
 "nbformat": 4,
 "nbformat_minor": 5
}
