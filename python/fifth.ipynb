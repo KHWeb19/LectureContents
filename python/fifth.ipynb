{
 "cells": [
  {
   "cell_type": "code",
   "execution_count": 3,
   "id": "98f2473a",
   "metadata": {},
   "outputs": [
    {
     "name": "stdout",
     "output_type": "stream",
     "text": [
      " * Serving Flask app \"__main__\" (lazy loading)\n",
      " * Environment: production\n",
      "   WARNING: This is a development server. Do not use it in a production deployment.\n",
      "   Use a production WSGI server instead.\n",
      " * Debug mode: off\n"
     ]
    },
    {
     "name": "stderr",
     "output_type": "stream",
     "text": [
      " * Running on http://127.0.0.1:5000/ (Press CTRL+C to quit)\n",
      "<ipython-input-3-0b134323e12a>:26: DeprecationWarning: 'encoding' is ignored and deprecated. It will be removed in Python 3.9\n",
      "  params = json.loads(request.get_data(), encoding='utf-8')\n",
      "127.0.0.1 - - [19/May/2022 16:17:55] \"\u001b[37mPOST /python-request-realdata HTTP/1.1\u001b[0m\" 200 -\n"
     ]
    },
    {
     "name": "stdout",
     "output_type": "stream",
     "text": [
      "params:  {'cost': 35000}\n"
     ]
    }
   ],
   "source": [
    "from flask import Flask, url_for, request, jsonify\n",
    "from flask_cors import CORS, cross_origin\n",
    "\n",
    "import json\n",
    "\n",
    "app = Flask(__name__)\n",
    "\n",
    "@app.route('/python-request', methods = ['GET'])\n",
    "def spring2python():\n",
    "    print(\"스프링 요청 성공!\")\n",
    "    data = {\"spring2python Success!\": True}\n",
    "    \n",
    "    return jsonify(data)\n",
    "\n",
    "@app.route('/python-request-multi', methods = ['GET'])\n",
    "def spring2python_multi():\n",
    "    data = {\"Success\": True}\n",
    "    \n",
    "    data[\"userId\"] = \"blabla\"\n",
    "    data[\"email\"] = \"blabla@gmail.com\"\n",
    "    \n",
    "    return jsonify(data)\n",
    "\n",
    "# 이것을 계기로 다음부턴 python 환경 구축시 Docker 를 활용해야할 것 같다.\n",
    "@app.route('/python-request-realdata', methods = ['POST'])\n",
    "def spring2python_realdata():\n",
    "    # python 3.9 이전 버전까지는 encoding='utf-8' 이 문법에 존재함\n",
    "    params = json.loads(request.get_data(), encoding='utf-8')\n",
    "    # python 3.9 버전 이후부터는 encoding 을 치우라고함\n",
    "    #params = json.loads(request.get_data())\n",
    "    print(\"params: \",params)\n",
    "    \n",
    "    if len(params) == 0:\n",
    "        return jsonify(\"No Parameter!\")\n",
    "    \n",
    "    params_string = \"\"\n",
    "    for key in params.keys():\n",
    "        params_string += 'key: {}, value: {}<br>'.format(key, params[key])\n",
    "    \n",
    "    return jsonify(params_string)\n",
    "\n",
    "if __name__ == \"__main__\":\n",
    "    app.run()"
   ]
  },
  {
   "cell_type": "code",
   "execution_count": null,
   "id": "c9f956bd",
   "metadata": {},
   "outputs": [],
   "source": []
  },
  {
   "cell_type": "code",
   "execution_count": null,
   "id": "552ccdaa",
   "metadata": {},
   "outputs": [],
   "source": [
    "# 카카오 개발자 사이트로 이동\n",
    "# https://developers.kakao.com/\n",
    "# 로그인\n",
    "# 내 애플리케이션\n",
    "# 애플리케이션 추가하기\n",
    "# 앱 이름 및 사업자등록번호상 사업주 작성\n",
    "# 생성 이후 만든 녀석 클릭\n",
    "# 여러가지 키 값들이 보일 것임(이건 사용자 고유 번호라 외부에 공개하면 안됨)"
   ]
  },
  {
   "cell_type": "code",
   "execution_count": 4,
   "id": "2de82ebd",
   "metadata": {},
   "outputs": [],
   "source": [
    "import requests\n",
    "import json\n",
    "\n",
    "url = \"https://dapi.kakao.com/v2/search/image\""
   ]
  },
  {
   "cell_type": "code",
   "execution_count": 5,
   "id": "d9d6c886",
   "metadata": {},
   "outputs": [],
   "source": [
    "headers = {\n",
    "    \"Authorization\": \"KakaoAK $YourRestAPIKey\"\n",
    "}"
   ]
  },
  {
   "cell_type": "code",
   "execution_count": 6,
   "id": "525f7685",
   "metadata": {},
   "outputs": [],
   "source": [
    "data = {\n",
    "    \"query\": \"리눅스\"\n",
    "}"
   ]
  },
  {
   "cell_type": "code",
   "execution_count": 7,
   "id": "1aa3946d",
   "metadata": {},
   "outputs": [],
   "source": [
    "response = requests.post(url, headers=headers, data=data)"
   ]
  },
  {
   "cell_type": "code",
   "execution_count": 8,
   "id": "71084c46",
   "metadata": {},
   "outputs": [
    {
     "name": "stdout",
     "output_type": "stream",
     "text": [
      "200\n"
     ]
    }
   ],
   "source": [
    "print(response.status_code)"
   ]
  },
  {
   "cell_type": "code",
   "execution_count": 9,
   "id": "12df01b4",
   "metadata": {},
   "outputs": [],
   "source": [
    "def save_image(image_url, file_name):\n",
    "    img_response = requests.get(image_url)\n",
    "    \n",
    "    if img_response.status_code == 200:\n",
    "        with open(file_name, \"wb\") as fp:\n",
    "            fp.write(img_response.content)"
   ]
  },
  {
   "cell_type": "code",
   "execution_count": 11,
   "id": "e81b7d02",
   "metadata": {},
   "outputs": [
    {
     "name": "stdout",
     "output_type": "stream",
     "text": [
      "[0th] image_url =  https://k.kakaocdn.net/dn/bnti6M/btqEpIgCabQ/lNsFu0jqNBeltuNJAlC15k/img.jpg\n",
      "[1th] image_url =  http://cfile29.uf.tistory.com/image/26DB0F33597B12B02558BD\n",
      "[2th] image_url =  http://postfiles8.naver.net/20130715_279/kskscks_1373850440040ODUUb_PNG/%B8%AE%B4%AA%BD%BA1.png?type=w3\n",
      "[3th] image_url =  http://cafeptthumb2.phinf.naver.net/20121017_278/mtyeom_13504445577433BEhw_JPEG/%B8%AE%B4%AA%BD%BA.jpg?type=w740\n",
      "[4th] image_url =  http://t1.daumcdn.net/cfile/tistory/99F3F7475DD8DF7934\n",
      "[5th] image_url =  http://postfiles13.naver.net/20161006_140/episord06_14756807921287Y8lY_JPEG/%B8%AE%B4%AA%BD%BA_%C1%BE%B7%F9%BF%CD_%C6%AF%C2%A1-3.jpg?type=w966\n",
      "[6th] image_url =  http://postfiles15.naver.net/MjAxOTAyMTJfMzAw/MDAxNTQ5OTQ5NjkyMTM3.MuARrmh-LMtsr45297LRM0O5KNG8l-JFK-aNS5iJd20g.wYUFWg39k2KEO52BXPziGeIVYnC7ZxvsB4tEaTeP72Ag.JPEG.tjsgns316/%EB%A6%AC%EB%88%85%EC%8A%A45.jpg?type=w773\n",
      "[7th] image_url =  https://t1.daumcdn.net/cfile/tistory/224E034850DC00A302\n",
      "[8th] image_url =  http://t1.daumcdn.net/cfile/tistory/244B0040586D36220B\n",
      "[9th] image_url =  https://k.kakaocdn.net/dn/bEGZno/btrzXZyN4Dm/k8jYijA2Scn4dzFZxYIOZ0/img.png\n",
      "[10th] image_url =  https://k.kakaocdn.net/dn/wmZzZ/btrslWRaMeQ/UAE0uIT97zqgYD4ICu5E1k/img.png\n",
      "[11th] image_url =  https://k.kakaocdn.net/dn/m6rEU/btryg0nbNe6/SFTO8h0q0KJiTjGyczbDa0/img.png\n",
      "[12th] image_url =  https://k.kakaocdn.net/dn/k990j/btrr9zJi84I/Fd2VaoGb1hoigFe2YEKks0/img.png\n",
      "[13th] image_url =  http://cfile25.uf.tistory.com/image/224AA833597B12B11F0C1F\n",
      "[14th] image_url =  https://k.kakaocdn.net/dn/H9T3E/btrA32CAFOF/WLsypRLrQEapBQeKVuNbmk/img.jpg\n",
      "[15th] image_url =  https://k.kakaocdn.net/dn/uUET3/btqO12JTxkl/JWLNSUEf2Ek3RpUSGKmHTk/img.png\n",
      "[16th] image_url =  https://k.kakaocdn.net/dn/bQmPk3/btrtRXIzqvZ/3qXkm98WNZwmLcGmare6h1/img.png\n",
      "[17th] image_url =  https://k.kakaocdn.net/dn/bX6eMR/btrAZd3zml1/BZDwpjBWslgp8KbOkh1h90/img.png\n",
      "[18th] image_url =  https://k.kakaocdn.net/dn/bNxJ9d/btrvOgkdzmY/Xj8EI6j7iJuTijhwr9XHT0/img.png\n",
      "[19th] image_url =  https://k.kakaocdn.net/dn/kJqmf/btrzL9hSD8f/IKs4KPKfDLKOMb4sALGSa1/img.png\n",
      "[20th] image_url =  https://t1.daumcdn.net/news/202005/21/ZDNetKorea/20200521161516642lwpd.jpg\n",
      "[21th] image_url =  https://k.kakaocdn.net/dn/1QK9u/btrtKCCXV1P/SotKUIJmVPYVMhsYsnVRD0/img.png\n",
      "[22th] image_url =  http://www.itdaily.kr/news/photo/201603/76594_82815_171.jpg\n",
      "[23th] image_url =  https://k.kakaocdn.net/dn/cCtjk6/btrmyjqmg60/nGk4qBFCYvJVRR4oKAT3pK/img.png\n",
      "[24th] image_url =  https://k.kakaocdn.net/dn/9fyHj/btrtyeCr8XX/ok5NM9S3lFgpQJ8HNEpKL1/img.png\n",
      "[25th] image_url =  http://www.epnc.co.kr/news/photo/202111/216996_217298_1026.jpg\n",
      "[26th] image_url =  https://k.kakaocdn.net/dn/4ZYfd/btrtJD9XhuR/JKoj8om2ZacPET7hpAbgK1/img.png\n",
      "[27th] image_url =  https://k.kakaocdn.net/dn/sASvd/btrxUYXbHQk/m9kU8kYt2jvKybay6U5Wwk/img.png\n",
      "[28th] image_url =  https://k.kakaocdn.net/dn/RgVdv/btrrjCrRdbH/UoPnHVfjiKfxE9RgEN3fyK/img.png\n",
      "[29th] image_url =  https://k.kakaocdn.net/dn/2u32H/btrjbOOUSLP/eDS73UEUCr8vnOeDidN2Y1/img.png\n",
      "[30th] image_url =  https://k.kakaocdn.net/dn/ctQo8O/btrrxmh7Duj/Mi1ZbvKKSbaZrnF6Xdnrbk/img.png\n",
      "[31th] image_url =  http://postfiles8.naver.net/20150128_87/skysmoga_14224336805579Ka2O_JPEG/%B1%B9%BA%F1%C1%F6%BF%F8_%B8%AE%B4%AA%BD%BA_%B9%E8%BF%EC%B1%E22015-01-28-000.jpg?type=w2\n",
      "[32th] image_url =  https://k.kakaocdn.net/dn/brSreD/btrtwLIFmkr/vLIdNlis5lbo5TnxVdvxC0/img.jpg\n",
      "[33th] image_url =  https://k.kakaocdn.net/dn/llzTm/btrvu2O71H0/Uv4WKZizx8GpEIf9umNHh0/img.png\n",
      "[34th] image_url =  https://k.kakaocdn.net/dn/Ithgx/btrzI1k4YHZ/eHZYDQWkuxrXExhNe8dN7k/img.png\n",
      "[35th] image_url =  https://k.kakaocdn.net/dn/bd6w01/btrfbYUkE3f/5UgkSQv0LoybV3zWdOKYLk/img.png\n",
      "[36th] image_url =  http://postfiles5.naver.net/20160625_292/sunguru_1466803918958He2Mx_JPEG/%B8%AE%B4%AA%BD%BA_%B1%E2%C3%CA_at_%B8%ED%B7%C9_2.jpg?type=w2\n",
      "[37th] image_url =  http://postfiles12.naver.net/MjAxOTA0MjZfMjUx/MDAxNTU2MjQ4OTIwMzc3.GBWSrIHuCRG8PR_cOT1GqFBVSqJ-gKXAD-ji1eBv2a8g.DM1WFLeMBZVFDMIN9KXAEUwvOg65l4Dg5rMFkjex29sg.PNG.fbfkfk123/%EB%A6%AC%EB%88%85%EC%8A%A4%EB%A7%88%EC%8A%A4%ED%84%B0_0426_03.png?type=w773\n",
      "[38th] image_url =  http://t1.daumcdn.net/cfile/tistory/23531E485535276328\n",
      "[39th] image_url =  https://k.kakaocdn.net/dn/cLssjq/btrtYUcpqoN/JbSHuIFdfVINQpOxUK87Z0/img.png\n",
      "[40th] image_url =  http://t1.daumcdn.net/cfile/tistory/9907EF405AAF3A321F\n",
      "[41th] image_url =  https://k.kakaocdn.net/dn/b2znhM/btrARoZ2WBs/unOXm608EVTjw394sXjoWK/img.png\n",
      "[42th] image_url =  https://k.kakaocdn.net/dn/DCMQ6/btrrd6nErDs/K2kiDi6VzQ06b2zaD802tK/img.png\n",
      "[43th] image_url =  https://k.kakaocdn.net/dn/cwhZtZ/btq1NuN5sfO/cHSCTKjjUzGeWPpfXQ836K/img.png\n",
      "[44th] image_url =  https://k.kakaocdn.net/dn/ZmbaP/btrx1ypJ6xm/DNohiVb7XSzGHixFAkc0CK/img.png\n",
      "[45th] image_url =  https://postfiles.pstatic.net/MjAyMjA1MDFfMjcx/MDAxNjUxMzkzMzU5MzEy.XAPkBg0Lk2Iq0R4wRWYP4SmAsv7SwxdMoBTecLZ0tcog.B7iR4D27PSEvGSuN7HFcyEmpBsV_sB4AK2OzLg_jGvYg.PNG.baekej0216/SE-d96c1c06-de9a-43b5-b6f0-6e936d189b0b.png?type=w773\n",
      "[46th] image_url =  https://k.kakaocdn.net/dn/c2HTQE/btrqtUhBXzv/3cbpd0b8aM8a4rcsNWKkOk/img.png\n",
      "[47th] image_url =  http://postfiles6.naver.net/20130306_5/bbaroo27_1362524497553CH4gw_PNG/%B8%AE%B4%AA%BD%BA%B8%AE%B4%AA%BD%BA%C0%C7_%B1%B8%C1%B6.png?type=w3\n",
      "[48th] image_url =  https://k.kakaocdn.net/dn/EZaoW/btrqAUHMSA4/ohU99BIGKIk7d8okJUUKYk/img.jpg\n",
      "[49th] image_url =  https://k.kakaocdn.net/dn/bwE8rF/btrqNfYi9Ll/7ZOpNXnaihSanT0l3yOZJk/img.png\n",
      "[50th] image_url =  https://k.kakaocdn.net/dn/cUoxJU/btrgsKWhDVE/OcfK8iKSilSEwIoqgzEnJ1/img.png\n",
      "[51th] image_url =  https://k.kakaocdn.net/dn/b3tS12/btrzncGRERM/8ifXdC5W3yYTWM1Itr9W6k/img.png\n",
      "[52th] image_url =  https://k.kakaocdn.net/dn/b2KzJt/btrrcG3QvPd/uQl7C89PmCr8hg0xKA6lVK/img.png\n",
      "[53th] image_url =  https://k.kakaocdn.net/dn/TvtsP/btrtwqdj2ra/423C64v72RwhE1qvwGrnPk/img.png\n",
      "[54th] image_url =  https://k.kakaocdn.net/dn/bYi9hm/btrzQh06Irc/f9meX10Fsk8MyERLkfU5BK/img.png\n",
      "[55th] image_url =  https://k.kakaocdn.net/dn/XbGR8/btriFiKqwle/4JBxthT9k9J8PK1VOKOmWk/img.png\n",
      "[56th] image_url =  https://k.kakaocdn.net/dn/NkHab/btrukffK9wQ/2XPFrA7vIrZ00eTR8KVfW1/img.png\n",
      "[57th] image_url =  https://k.kakaocdn.net/dn/vKqm3/btrAgg3bpZt/ddXv5sBT89r9DMWAGbGtIk/img.png\n",
      "[58th] image_url =  https://k.kakaocdn.net/dn/bd2Sdj/btrtgsvwNPB/YsB2Y0X2RgHovHlXYg7I5k/img.png\n",
      "[59th] image_url =  http://t1.daumcdn.net/cfile/tistory/2539993B57BA63AB1A\n",
      "[60th] image_url =  https://t1.daumcdn.net/news/202008/26/ZDNetKorea/20200826142437616peko.gif\n",
      "[61th] image_url =  https://k.kakaocdn.net/dn/bE8REG/btroJ5EAnku/sJKQtsO5QrabelVaE2xNFK/img.jpg\n",
      "[62th] image_url =  https://k.kakaocdn.net/dn/4v4Ip/btraEf8iFM1/6HGkvTNN5XgXG303do7eAk/img.png\n",
      "[63th] image_url =  https://images.velog.io/images/www_castlehi/post/b171de04-85ea-4206-86be-31a6ab0464a9/image.png\n",
      "[64th] image_url =  https://k.kakaocdn.net/dn/I83Px/btq6oDeO67X/yrstpl0jZQWie3ilw1FyKk/img.png\n",
      "[65th] image_url =  https://k.kakaocdn.net/dn/bfYOSr/btriwH3AVKA/Trz23dw1ukHcv8Gt7kDj6k/img.jpg\n",
      "[66th] image_url =  https://k.kakaocdn.net/dn/mMycE/btrmCBRzl5w/lmMXKrk67cKD8KwgLi25RK/img.png\n",
      "[67th] image_url =  https://k.kakaocdn.net/dn/bXbRA2/btrzzX2pEWK/PE1DZsuKbpO24QGbr9MjsK/img.png\n",
      "[68th] image_url =  https://k.kakaocdn.net/dn/wREHj/btrtHCEeZRe/TXCho5h4OmnQKuUIIK1KLk/img.png\n",
      "[69th] image_url =  https://k.kakaocdn.net/dn/0YKtf/btqIP0KutYN/kGXEy5LsUQ1hPnH8ja22kK/img.png\n",
      "[70th] image_url =  https://k.kakaocdn.net/dn/bICGH6/btryHaJY4zw/DhtbVL9ACDUeujeCN6qdS1/img.png\n",
      "[71th] image_url =  https://k.kakaocdn.net/dn/lIptF/btqRI8yxJDH/GVsLMZlPw23m7iHdihLXF0/img.png\n",
      "[72th] image_url =  https://k.kakaocdn.net/dn/dlnAS5/btrhtVOQmjU/smFvIAHvkTTNVCGJ3gxXa0/img.jpg\n",
      "[73th] image_url =  https://k.kakaocdn.net/dn/prDEi/btrATRNhaoY/FunQQCyRuBwfeXNb0uKzDK/img.png\n",
      "[74th] image_url =  https://k.kakaocdn.net/dn/bDe2z1/btrsrlCEoUR/snAxnhdqghTeWqlWUqWa9k/img.png\n",
      "[75th] image_url =  https://k.kakaocdn.net/dn/GPi4g/btrBo2bEJFi/NbkbxnpeTx7KvkUFzkJ5J0/img.png\n",
      "[76th] image_url =  https://k.kakaocdn.net/dn/dwiP6m/btrqujtvK0r/LoQ4YAEkR4bMtgHFMRbE7k/img.png\n",
      "[77th] image_url =  https://k.kakaocdn.net/dn/1nZt2/btrvhM5bxXk/PVsHl5BiEDi5eIPDPOzXRK/img.png\n",
      "[78th] image_url =  http://postfiles14.naver.net/20110827_173/infernokim_13144066815111CN6t_JPEG/%B8%AE%B4%AA%BD%BA%C0%DA%B0%DD%C1%F5.JPG?type=w3\n"
     ]
    },
    {
     "name": "stdout",
     "output_type": "stream",
     "text": [
      "[79th] image_url =  https://k.kakaocdn.net/dn/mT7dh/btq2h318zYB/Vwy56vTcOesUMSShDxd3k1/img.jpg\n"
     ]
    }
   ],
   "source": [
    "if response.status_code != 200:\n",
    "    print(\"뭔가 잘못됨!\")\n",
    "else:\n",
    "    count = 0\n",
    "    for image_info in response.json()['documents']:\n",
    "        print(f\"[{count}th] image_url = \", image_info['image_url'])\n",
    "        \n",
    "        count = count + 1\n",
    "        file_name = \"test_%d.jpg\" % (count)\n",
    "        \n",
    "        save_image(image_info['image_url'], file_name)"
   ]
  },
  {
   "cell_type": "code",
   "execution_count": null,
   "id": "7f0f7deb",
   "metadata": {},
   "outputs": [],
   "source": []
  },
  {
   "cell_type": "code",
   "execution_count": 12,
   "id": "2b33b75c",
   "metadata": {},
   "outputs": [
    {
     "name": "stdout",
     "output_type": "stream",
     "text": [
      "start:  2022-05-19 17:46:10\n"
     ]
    }
   ],
   "source": [
    "# CSV\n",
    "import pymysql\n",
    "import datetime\n",
    "\n",
    "print('start: ', str(datetime.datetime.now())[:19])"
   ]
  },
  {
   "cell_type": "code",
   "execution_count": 13,
   "id": "72ab6da2",
   "metadata": {},
   "outputs": [],
   "source": [
    "import pickle\n",
    "\n",
    "MYSQL_USER_DATA_SAVED_FILE = \"mysql/userinfo\"\n",
    "\n",
    "f = open(MYSQL_USER_DATA_SAVED_FILE, 'rb')\n",
    "mysql_user_info = pickle.load(f)\n",
    "f.close()"
   ]
  },
  {
   "cell_type": "code",
   "execution_count": 16,
   "id": "1d4b4386",
   "metadata": {},
   "outputs": [
    {
     "name": "stdout",
     "output_type": "stream",
     "text": [
      "<pymysql.connections.Connection object at 0x000002A4335C0D60>\n"
     ]
    }
   ],
   "source": [
    "db = pymysql.connect(\n",
    "    host = '127.0.0.1',\n",
    "    port = 3306,\n",
    "    user = mysql_user_info['user_id'],\n",
    "    passwd = mysql_user_info['password'],\n",
    "    # 여기서 사용할 스키마 하나 생성!\n",
    "    db = 'non_jpa_db'\n",
    ")\n",
    "\n",
    "print(db)"
   ]
  },
  {
   "cell_type": "code",
   "execution_count": 17,
   "id": "0c2b095c",
   "metadata": {},
   "outputs": [
    {
     "name": "stdout",
     "output_type": "stream",
     "text": [
      "((1, '선풍기', '좀비들이 쳐들어올때 방어벽 역할을 해줄 수 있는 튼튼한 선풍기입니다. 태양빛만 있으면 어디서든 충전되는 선풍기입니다.', 30000, '육성', datetime.datetime(2022, 2, 14, 17, 6, 45)), (2, '배고프면밥주는기계', '핵전쟁으로 망한 세상에서 사람들에게 밥을 주는 기계입니다.', 100000, '십성', datetime.datetime(2022, 2, 14, 17, 9, 12)), (3, '화염방사기', '보스를 제외한 모든 쫄몹(좀비들)을 한 방에 제압할 수 있습니다. 가격 제한이 걸려서 기능이 너프되었습니다.', 1000000000, '게임운영자', datetime.datetime(2022, 2, 14, 17, 13, 41)), (5, '좀비 나침반', '플레이어의 등급보다 낮은 등급의 좀비들의 위치 및 이동 경로를 파악할 수 있습니다. 플레이어가 보스보다 등급이 높은 경우엔 보스가 좀비들을 이끌고 어디로 공격을 하려고 하는지 전략적인 정보 또한 얻을 수 있는 사기템입니다.', 1000000, '게임운영자', datetime.datetime(2022, 2, 14, 17, 15, 32)), (7, '이건 수정 안함', '상품을 소개 안할래요', 10, '너님', datetime.datetime(2022, 3, 14, 16, 53, 42)), (8, '이건 삭제 아니고 수정용', '혜자!', 1, '너님', datetime.datetime(2022, 3, 14, 16, 54, 6)), (9, '사이값', '상품을 소개하세요. 싫어요.', 1000, '너님', datetime.datetime(2022, 3, 14, 16, 54, 19)), (10, 'modifyTest', 'test', 100000, 'test', datetime.datetime(2022, 3, 14, 19, 51, 56)))\n"
     ]
    }
   ],
   "source": [
    "cursor = db.cursor()\n",
    "\n",
    "sql = \"\"\"\n",
    "    select * from product_board;\n",
    "\"\"\"\n",
    "\n",
    "cursor.execute(sql)\n",
    "rows = cursor.fetchall()\n",
    "\n",
    "db.close()\n",
    "print(rows)"
   ]
  },
  {
   "cell_type": "code",
   "execution_count": 18,
   "id": "143da1e1",
   "metadata": {},
   "outputs": [],
   "source": [
    "def db2csv():\n",
    "    with open('mysql2csv.csv', 'a') as f:\n",
    "        f.writelines(text[:-1] + '\\n')"
   ]
  },
  {
   "cell_type": "code",
   "execution_count": 19,
   "id": "897a7b3e",
   "metadata": {},
   "outputs": [],
   "source": [
    "for x in rows:\n",
    "    text = ''\n",
    "    for y in x:\n",
    "        y = str(y)\n",
    "        text = text + y + ', '\n",
    "        \n",
    "    db2csv()"
   ]
  },
  {
   "cell_type": "code",
   "execution_count": 20,
   "id": "457ddbb8",
   "metadata": {},
   "outputs": [
    {
     "name": "stdout",
     "output_type": "stream",
     "text": [
      " D 드라이브의 볼륨: 오후반_백업\n",
      " 볼륨 일련 번호: 74DA-56DC\n",
      "\n",
      " D:\\LectureContents-1\\python 디렉터리\n",
      "\n",
      "2022-05-19  오후 05:52    <DIR>          .\n",
      "2022-05-19  오후 05:52    <DIR>          ..\n",
      "2022-05-19  오후 03:54    <DIR>          .ipynb_checkpoints\n",
      "2022-05-13  오후 04:47                37 colors\n",
      "2022-05-19  오후 05:51            19,435 fifth.ipynb\n",
      "2022-05-12  오후 06:11            15,926 first.ipynb\n",
      "2022-05-17  오후 06:10           332,796 fourth.ipynb\n",
      "2022-05-16  오후 05:37    <DIR>          mysql\n",
      "2022-05-19  오후 05:52               994 mysql2csv.csv\n",
      "2022-05-13  오후 06:01            26,945 second.ipynb\n",
      "2022-05-13  오후 04:36                12 test.txt\n",
      "2022-05-19  오후 05:21            70,281 test_1.jpg\n",
      "2022-05-19  오후 05:21            18,367 test_10.jpg\n",
      "2022-05-19  오후 05:21             7,031 test_11.jpg\n",
      "2022-05-19  오후 05:21            49,909 test_12.jpg\n",
      "2022-05-19  오후 05:21            47,983 test_13.jpg\n",
      "2022-05-19  오후 05:21            57,033 test_14.jpg\n",
      "2022-05-19  오후 05:21           215,245 test_15.jpg\n",
      "2022-05-19  오후 05:21            40,785 test_16.jpg\n",
      "2022-05-19  오후 05:21           143,856 test_17.jpg\n",
      "2022-05-19  오후 05:21            30,663 test_18.jpg\n",
      "2022-05-19  오후 05:21            22,085 test_19.jpg\n",
      "2022-05-19  오후 05:21            34,634 test_2.jpg\n",
      "2022-05-19  오후 05:21            38,436 test_20.jpg\n",
      "2022-05-19  오후 05:21            38,562 test_21.jpg\n",
      "2022-05-19  오후 05:21            48,526 test_22.jpg\n",
      "2022-05-19  오후 05:21            25,745 test_23.jpg\n",
      "2022-05-19  오후 05:21            68,142 test_24.jpg\n",
      "2022-05-19  오후 05:21           339,394 test_25.jpg\n",
      "2022-05-19  오후 05:21           135,023 test_26.jpg\n",
      "2022-05-19  오후 05:21            93,574 test_27.jpg\n",
      "2022-05-19  오후 05:21           145,661 test_28.jpg\n",
      "2022-05-19  오후 05:21            15,215 test_29.jpg\n",
      "2022-05-19  오후 05:21            37,519 test_3.jpg\n",
      "2022-05-19  오후 05:21            54,727 test_30.jpg\n",
      "2022-05-19  오후 05:21           123,040 test_31.jpg\n",
      "2022-05-19  오후 05:21           138,203 test_32.jpg\n",
      "2022-05-19  오후 05:21            82,515 test_33.jpg\n",
      "2022-05-19  오후 05:21            58,332 test_34.jpg\n",
      "2022-05-19  오후 05:21            33,353 test_35.jpg\n",
      "2022-05-19  오후 05:21            68,472 test_36.jpg\n",
      "2022-05-19  오후 05:21            58,170 test_37.jpg\n",
      "2022-05-19  오후 05:21           584,105 test_38.jpg\n",
      "2022-05-19  오후 05:21             8,183 test_39.jpg\n",
      "2022-05-19  오후 05:21            16,621 test_4.jpg\n",
      "2022-05-19  오후 05:21            27,553 test_40.jpg\n",
      "2022-05-19  오후 05:21            61,166 test_41.jpg\n",
      "2022-05-19  오후 05:21            39,614 test_42.jpg\n",
      "2022-05-19  오후 05:21            21,745 test_43.jpg\n",
      "2022-05-19  오후 05:21           601,519 test_44.jpg\n",
      "2022-05-19  오후 05:21            41,273 test_45.jpg\n",
      "2022-05-19  오후 05:21            25,752 test_46.jpg\n",
      "2022-05-19  오후 05:21            76,820 test_47.jpg\n",
      "2022-05-19  오후 05:21            68,131 test_48.jpg\n",
      "2022-05-19  오후 05:21            83,187 test_49.jpg\n",
      "2022-05-19  오후 05:21            37,967 test_5.jpg\n",
      "2022-05-19  오후 05:21           518,453 test_50.jpg\n",
      "2022-05-19  오후 05:21           100,117 test_51.jpg\n",
      "2022-05-19  오후 05:21            62,585 test_52.jpg\n",
      "2022-05-19  오후 05:21            20,940 test_53.jpg\n",
      "2022-05-19  오후 05:21            23,842 test_54.jpg\n",
      "2022-05-19  오후 05:21            45,427 test_55.jpg\n",
      "2022-05-19  오후 05:21            39,750 test_56.jpg\n",
      "2022-05-19  오후 05:21            81,857 test_57.jpg\n",
      "2022-05-19  오후 05:21            29,713 test_58.jpg\n",
      "2022-05-19  오후 05:21           118,112 test_59.jpg\n",
      "2022-05-19  오후 05:21            51,948 test_60.jpg\n",
      "2022-05-19  오후 05:21            41,828 test_61.jpg\n",
      "2022-05-19  오후 05:21           122,772 test_62.jpg\n",
      "2022-05-19  오후 05:21            10,420 test_63.jpg\n",
      "2022-05-19  오후 05:21           101,881 test_64.jpg\n",
      "2022-05-19  오후 05:21            95,087 test_65.jpg\n",
      "2022-05-19  오후 05:21            22,816 test_66.jpg\n",
      "2022-05-19  오후 05:21           254,240 test_67.jpg\n",
      "2022-05-19  오후 05:21            43,138 test_68.jpg\n",
      "2022-05-19  오후 05:21            68,091 test_69.jpg\n",
      "2022-05-19  오후 05:21            85,411 test_7.jpg\n",
      "2022-05-19  오후 05:21           227,984 test_70.jpg\n",
      "2022-05-19  오후 05:21            19,191 test_71.jpg\n",
      "2022-05-19  오후 05:21             9,612 test_72.jpg\n",
      "2022-05-19  오후 05:21            13,965 test_73.jpg\n",
      "2022-05-19  오후 05:21            47,800 test_74.jpg\n",
      "2022-05-19  오후 05:21             7,409 test_75.jpg\n",
      "2022-05-19  오후 05:21            20,163 test_76.jpg\n",
      "2022-05-19  오후 05:21            42,539 test_77.jpg\n",
      "2022-05-19  오후 05:21            18,635 test_78.jpg\n",
      "2022-05-19  오후 05:21            49,761 test_79.jpg\n",
      "2022-05-19  오후 05:21           148,625 test_8.jpg\n",
      "2022-05-19  오후 05:21           125,459 test_80.jpg\n",
      "2022-05-19  오후 05:21            24,217 test_9.jpg\n",
      "2022-05-16  오후 06:01            13,108 third.ipynb\n",
      "              87개 파일           7,137,158 바이트\n",
      "               4개 디렉터리  196,518,735,872 바이트 남음\n"
     ]
    }
   ],
   "source": [
    "# !ls\n",
    "!dir"
   ]
  },
  {
   "cell_type": "code",
   "execution_count": null,
   "id": "b2d3feee",
   "metadata": {},
   "outputs": [],
   "source": []
  }
 ],
 "metadata": {
  "kernelspec": {
   "display_name": "Python 3",
   "language": "python",
   "name": "python3"
  },
  "language_info": {
   "codemirror_mode": {
    "name": "ipython",
    "version": 3
   },
   "file_extension": ".py",
   "mimetype": "text/x-python",
   "name": "python",
   "nbconvert_exporter": "python",
   "pygments_lexer": "ipython3",
   "version": "3.8.8"
  }
 },
 "nbformat": 4,
 "nbformat_minor": 5
}
