{
 "cells": [
  {
   "cell_type": "code",
   "execution_count": 3,
   "id": "98f2473a",
   "metadata": {},
   "outputs": [
    {
     "name": "stdout",
     "output_type": "stream",
     "text": [
      " * Serving Flask app \"__main__\" (lazy loading)\n",
      " * Environment: production\n",
      "   WARNING: This is a development server. Do not use it in a production deployment.\n",
      "   Use a production WSGI server instead.\n",
      " * Debug mode: off\n"
     ]
    },
    {
     "name": "stderr",
     "output_type": "stream",
     "text": [
      " * Running on http://127.0.0.1:5000/ (Press CTRL+C to quit)\n",
      "<ipython-input-3-0b134323e12a>:26: DeprecationWarning: 'encoding' is ignored and deprecated. It will be removed in Python 3.9\n",
      "  params = json.loads(request.get_data(), encoding='utf-8')\n",
      "127.0.0.1 - - [19/May/2022 16:17:55] \"\u001b[37mPOST /python-request-realdata HTTP/1.1\u001b[0m\" 200 -\n"
     ]
    },
    {
     "name": "stdout",
     "output_type": "stream",
     "text": [
      "params:  {'cost': 35000}\n"
     ]
    }
   ],
   "source": [
    "from flask import Flask, url_for, request, jsonify\n",
    "from flask_cors import CORS, cross_origin\n",
    "\n",
    "import json\n",
    "\n",
    "app = Flask(__name__)\n",
    "\n",
    "@app.route('/python-request', methods = ['GET'])\n",
    "def spring2python():\n",
    "    print(\"스프링 요청 성공!\")\n",
    "    data = {\"spring2python Success!\": True}\n",
    "    \n",
    "    return jsonify(data)\n",
    "\n",
    "@app.route('/python-request-multi', methods = ['GET'])\n",
    "def spring2python_multi():\n",
    "    data = {\"Success\": True}\n",
    "    \n",
    "    data[\"userId\"] = \"blabla\"\n",
    "    data[\"email\"] = \"blabla@gmail.com\"\n",
    "    \n",
    "    return jsonify(data)\n",
    "\n",
    "# 이것을 계기로 다음부턴 python 환경 구축시 Docker 를 활용해야할 것 같다.\n",
    "@app.route('/python-request-realdata', methods = ['POST'])\n",
    "def spring2python_realdata():\n",
    "    # python 3.9 이전 버전까지는 encoding='utf-8' 이 문법에 존재함\n",
    "    params = json.loads(request.get_data(), encoding='utf-8')\n",
    "    # python 3.9 버전 이후부터는 encoding 을 치우라고함\n",
    "    #params = json.loads(request.get_data())\n",
    "    print(\"params: \",params)\n",
    "    \n",
    "    if len(params) == 0:\n",
    "        return jsonify(\"No Parameter!\")\n",
    "    \n",
    "    params_string = \"\"\n",
    "    for key in params.keys():\n",
    "        params_string += 'key: {}, value: {}<br>'.format(key, params[key])\n",
    "    \n",
    "    return jsonify(params_string)\n",
    "\n",
    "if __name__ == \"__main__\":\n",
    "    app.run()"
   ]
  },
  {
   "cell_type": "code",
   "execution_count": null,
   "id": "c9f956bd",
   "metadata": {},
   "outputs": [],
   "source": []
  },
  {
   "cell_type": "code",
   "execution_count": null,
   "id": "552ccdaa",
   "metadata": {},
   "outputs": [],
   "source": [
    "# 카카오 개발자 사이트로 이동\n",
    "# https://developers.kakao.com/\n",
    "# 로그인\n",
    "# 내 애플리케이션\n",
    "# 애플리케이션 추가하기\n",
    "# 앱 이름 및 사업자등록번호상 사업주 작성\n",
    "# 생성 이후 만든 녀석 클릭\n",
    "# 여러가지 키 값들이 보일 것임(이건 사용자 고유 번호라 외부에 공개하면 안됨)"
   ]
  },
  {
   "cell_type": "code",
   "execution_count": 4,
   "id": "2de82ebd",
   "metadata": {},
   "outputs": [],
   "source": [
    "import requests\n",
    "import json\n",
    "\n",
    "url = \"https://dapi.kakao.com/v2/search/image\""
   ]
  },
  {
   "cell_type": "code",
   "execution_count": 5,
   "id": "bba73e60",
   "metadata": {},
   "outputs": [],
   "source": [
    "headers = {\n",
    "    \"Authorization\": \"KakaoAK $YourRestAPIKey\"\n",
    "}"
   ]
  },
  {
   "cell_type": "code",
   "execution_count": 6,
   "id": "db12631d",
   "metadata": {},
   "outputs": [],
   "source": [
    "data = {\n",
    "    \"query\": \"리눅스\"\n",
    "}"
   ]
  },
  {
   "cell_type": "code",
   "execution_count": 7,
   "id": "b907a54b",
   "metadata": {},
   "outputs": [],
   "source": [
    "response = requests.post(url, headers=headers, data=data)"
   ]
  },
  {
   "cell_type": "code",
   "execution_count": 8,
   "id": "9fa01809",
   "metadata": {},
   "outputs": [
    {
     "name": "stdout",
     "output_type": "stream",
     "text": [
      "200\n"
     ]
    }
   ],
   "source": [
    "print(response.status_code)"
   ]
  },
  {
   "cell_type": "code",
   "execution_count": 9,
   "id": "8fd479e8",
   "metadata": {},
   "outputs": [],
   "source": [
    "def save_image(image_url, file_name):\n",
    "    img_response = requests.get(image_url)\n",
    "    \n",
    "    if img_response.status_code == 200:\n",
    "        with open(file_name, \"wb\") as fp:\n",
    "            fp.write(img_response.content)"
   ]
  },
  {
   "cell_type": "code",
   "execution_count": 11,
   "id": "ba63cbb9",
   "metadata": {},
   "outputs": [
    {
     "name": "stdout",
     "output_type": "stream",
     "text": [
      "[0th] image_url =  https://k.kakaocdn.net/dn/bnti6M/btqEpIgCabQ/lNsFu0jqNBeltuNJAlC15k/img.jpg\n",
      "[1th] image_url =  http://cfile29.uf.tistory.com/image/26DB0F33597B12B02558BD\n",
      "[2th] image_url =  http://postfiles8.naver.net/20130715_279/kskscks_1373850440040ODUUb_PNG/%B8%AE%B4%AA%BD%BA1.png?type=w3\n",
      "[3th] image_url =  http://cafeptthumb2.phinf.naver.net/20121017_278/mtyeom_13504445577433BEhw_JPEG/%B8%AE%B4%AA%BD%BA.jpg?type=w740\n",
      "[4th] image_url =  http://t1.daumcdn.net/cfile/tistory/99F3F7475DD8DF7934\n",
      "[5th] image_url =  http://postfiles13.naver.net/20161006_140/episord06_14756807921287Y8lY_JPEG/%B8%AE%B4%AA%BD%BA_%C1%BE%B7%F9%BF%CD_%C6%AF%C2%A1-3.jpg?type=w966\n",
      "[6th] image_url =  http://postfiles15.naver.net/MjAxOTAyMTJfMzAw/MDAxNTQ5OTQ5NjkyMTM3.MuARrmh-LMtsr45297LRM0O5KNG8l-JFK-aNS5iJd20g.wYUFWg39k2KEO52BXPziGeIVYnC7ZxvsB4tEaTeP72Ag.JPEG.tjsgns316/%EB%A6%AC%EB%88%85%EC%8A%A45.jpg?type=w773\n",
      "[7th] image_url =  https://t1.daumcdn.net/cfile/tistory/224E034850DC00A302\n",
      "[8th] image_url =  http://t1.daumcdn.net/cfile/tistory/244B0040586D36220B\n",
      "[9th] image_url =  https://k.kakaocdn.net/dn/bEGZno/btrzXZyN4Dm/k8jYijA2Scn4dzFZxYIOZ0/img.png\n",
      "[10th] image_url =  https://k.kakaocdn.net/dn/wmZzZ/btrslWRaMeQ/UAE0uIT97zqgYD4ICu5E1k/img.png\n",
      "[11th] image_url =  https://k.kakaocdn.net/dn/m6rEU/btryg0nbNe6/SFTO8h0q0KJiTjGyczbDa0/img.png\n",
      "[12th] image_url =  https://k.kakaocdn.net/dn/k990j/btrr9zJi84I/Fd2VaoGb1hoigFe2YEKks0/img.png\n",
      "[13th] image_url =  http://cfile25.uf.tistory.com/image/224AA833597B12B11F0C1F\n",
      "[14th] image_url =  https://k.kakaocdn.net/dn/H9T3E/btrA32CAFOF/WLsypRLrQEapBQeKVuNbmk/img.jpg\n",
      "[15th] image_url =  https://k.kakaocdn.net/dn/uUET3/btqO12JTxkl/JWLNSUEf2Ek3RpUSGKmHTk/img.png\n",
      "[16th] image_url =  https://k.kakaocdn.net/dn/bQmPk3/btrtRXIzqvZ/3qXkm98WNZwmLcGmare6h1/img.png\n",
      "[17th] image_url =  https://k.kakaocdn.net/dn/bX6eMR/btrAZd3zml1/BZDwpjBWslgp8KbOkh1h90/img.png\n",
      "[18th] image_url =  https://k.kakaocdn.net/dn/bNxJ9d/btrvOgkdzmY/Xj8EI6j7iJuTijhwr9XHT0/img.png\n",
      "[19th] image_url =  https://k.kakaocdn.net/dn/kJqmf/btrzL9hSD8f/IKs4KPKfDLKOMb4sALGSa1/img.png\n",
      "[20th] image_url =  https://t1.daumcdn.net/news/202005/21/ZDNetKorea/20200521161516642lwpd.jpg\n",
      "[21th] image_url =  https://k.kakaocdn.net/dn/1QK9u/btrtKCCXV1P/SotKUIJmVPYVMhsYsnVRD0/img.png\n",
      "[22th] image_url =  http://www.itdaily.kr/news/photo/201603/76594_82815_171.jpg\n",
      "[23th] image_url =  https://k.kakaocdn.net/dn/cCtjk6/btrmyjqmg60/nGk4qBFCYvJVRR4oKAT3pK/img.png\n",
      "[24th] image_url =  https://k.kakaocdn.net/dn/9fyHj/btrtyeCr8XX/ok5NM9S3lFgpQJ8HNEpKL1/img.png\n",
      "[25th] image_url =  http://www.epnc.co.kr/news/photo/202111/216996_217298_1026.jpg\n",
      "[26th] image_url =  https://k.kakaocdn.net/dn/4ZYfd/btrtJD9XhuR/JKoj8om2ZacPET7hpAbgK1/img.png\n",
      "[27th] image_url =  https://k.kakaocdn.net/dn/sASvd/btrxUYXbHQk/m9kU8kYt2jvKybay6U5Wwk/img.png\n",
      "[28th] image_url =  https://k.kakaocdn.net/dn/RgVdv/btrrjCrRdbH/UoPnHVfjiKfxE9RgEN3fyK/img.png\n",
      "[29th] image_url =  https://k.kakaocdn.net/dn/2u32H/btrjbOOUSLP/eDS73UEUCr8vnOeDidN2Y1/img.png\n",
      "[30th] image_url =  https://k.kakaocdn.net/dn/ctQo8O/btrrxmh7Duj/Mi1ZbvKKSbaZrnF6Xdnrbk/img.png\n",
      "[31th] image_url =  http://postfiles8.naver.net/20150128_87/skysmoga_14224336805579Ka2O_JPEG/%B1%B9%BA%F1%C1%F6%BF%F8_%B8%AE%B4%AA%BD%BA_%B9%E8%BF%EC%B1%E22015-01-28-000.jpg?type=w2\n",
      "[32th] image_url =  https://k.kakaocdn.net/dn/brSreD/btrtwLIFmkr/vLIdNlis5lbo5TnxVdvxC0/img.jpg\n",
      "[33th] image_url =  https://k.kakaocdn.net/dn/llzTm/btrvu2O71H0/Uv4WKZizx8GpEIf9umNHh0/img.png\n",
      "[34th] image_url =  https://k.kakaocdn.net/dn/Ithgx/btrzI1k4YHZ/eHZYDQWkuxrXExhNe8dN7k/img.png\n",
      "[35th] image_url =  https://k.kakaocdn.net/dn/bd6w01/btrfbYUkE3f/5UgkSQv0LoybV3zWdOKYLk/img.png\n",
      "[36th] image_url =  http://postfiles5.naver.net/20160625_292/sunguru_1466803918958He2Mx_JPEG/%B8%AE%B4%AA%BD%BA_%B1%E2%C3%CA_at_%B8%ED%B7%C9_2.jpg?type=w2\n",
      "[37th] image_url =  http://postfiles12.naver.net/MjAxOTA0MjZfMjUx/MDAxNTU2MjQ4OTIwMzc3.GBWSrIHuCRG8PR_cOT1GqFBVSqJ-gKXAD-ji1eBv2a8g.DM1WFLeMBZVFDMIN9KXAEUwvOg65l4Dg5rMFkjex29sg.PNG.fbfkfk123/%EB%A6%AC%EB%88%85%EC%8A%A4%EB%A7%88%EC%8A%A4%ED%84%B0_0426_03.png?type=w773\n",
      "[38th] image_url =  http://t1.daumcdn.net/cfile/tistory/23531E485535276328\n",
      "[39th] image_url =  https://k.kakaocdn.net/dn/cLssjq/btrtYUcpqoN/JbSHuIFdfVINQpOxUK87Z0/img.png\n",
      "[40th] image_url =  http://t1.daumcdn.net/cfile/tistory/9907EF405AAF3A321F\n",
      "[41th] image_url =  https://k.kakaocdn.net/dn/b2znhM/btrARoZ2WBs/unOXm608EVTjw394sXjoWK/img.png\n",
      "[42th] image_url =  https://k.kakaocdn.net/dn/DCMQ6/btrrd6nErDs/K2kiDi6VzQ06b2zaD802tK/img.png\n",
      "[43th] image_url =  https://k.kakaocdn.net/dn/cwhZtZ/btq1NuN5sfO/cHSCTKjjUzGeWPpfXQ836K/img.png\n",
      "[44th] image_url =  https://k.kakaocdn.net/dn/ZmbaP/btrx1ypJ6xm/DNohiVb7XSzGHixFAkc0CK/img.png\n",
      "[45th] image_url =  https://postfiles.pstatic.net/MjAyMjA1MDFfMjcx/MDAxNjUxMzkzMzU5MzEy.XAPkBg0Lk2Iq0R4wRWYP4SmAsv7SwxdMoBTecLZ0tcog.B7iR4D27PSEvGSuN7HFcyEmpBsV_sB4AK2OzLg_jGvYg.PNG.baekej0216/SE-d96c1c06-de9a-43b5-b6f0-6e936d189b0b.png?type=w773\n",
      "[46th] image_url =  https://k.kakaocdn.net/dn/c2HTQE/btrqtUhBXzv/3cbpd0b8aM8a4rcsNWKkOk/img.png\n",
      "[47th] image_url =  http://postfiles6.naver.net/20130306_5/bbaroo27_1362524497553CH4gw_PNG/%B8%AE%B4%AA%BD%BA%B8%AE%B4%AA%BD%BA%C0%C7_%B1%B8%C1%B6.png?type=w3\n",
      "[48th] image_url =  https://k.kakaocdn.net/dn/EZaoW/btrqAUHMSA4/ohU99BIGKIk7d8okJUUKYk/img.jpg\n",
      "[49th] image_url =  https://k.kakaocdn.net/dn/bwE8rF/btrqNfYi9Ll/7ZOpNXnaihSanT0l3yOZJk/img.png\n",
      "[50th] image_url =  https://k.kakaocdn.net/dn/cUoxJU/btrgsKWhDVE/OcfK8iKSilSEwIoqgzEnJ1/img.png\n",
      "[51th] image_url =  https://k.kakaocdn.net/dn/b3tS12/btrzncGRERM/8ifXdC5W3yYTWM1Itr9W6k/img.png\n",
      "[52th] image_url =  https://k.kakaocdn.net/dn/b2KzJt/btrrcG3QvPd/uQl7C89PmCr8hg0xKA6lVK/img.png\n",
      "[53th] image_url =  https://k.kakaocdn.net/dn/TvtsP/btrtwqdj2ra/423C64v72RwhE1qvwGrnPk/img.png\n",
      "[54th] image_url =  https://k.kakaocdn.net/dn/bYi9hm/btrzQh06Irc/f9meX10Fsk8MyERLkfU5BK/img.png\n",
      "[55th] image_url =  https://k.kakaocdn.net/dn/XbGR8/btriFiKqwle/4JBxthT9k9J8PK1VOKOmWk/img.png\n",
      "[56th] image_url =  https://k.kakaocdn.net/dn/NkHab/btrukffK9wQ/2XPFrA7vIrZ00eTR8KVfW1/img.png\n",
      "[57th] image_url =  https://k.kakaocdn.net/dn/vKqm3/btrAgg3bpZt/ddXv5sBT89r9DMWAGbGtIk/img.png\n",
      "[58th] image_url =  https://k.kakaocdn.net/dn/bd2Sdj/btrtgsvwNPB/YsB2Y0X2RgHovHlXYg7I5k/img.png\n",
      "[59th] image_url =  http://t1.daumcdn.net/cfile/tistory/2539993B57BA63AB1A\n",
      "[60th] image_url =  https://t1.daumcdn.net/news/202008/26/ZDNetKorea/20200826142437616peko.gif\n",
      "[61th] image_url =  https://k.kakaocdn.net/dn/bE8REG/btroJ5EAnku/sJKQtsO5QrabelVaE2xNFK/img.jpg\n",
      "[62th] image_url =  https://k.kakaocdn.net/dn/4v4Ip/btraEf8iFM1/6HGkvTNN5XgXG303do7eAk/img.png\n",
      "[63th] image_url =  https://images.velog.io/images/www_castlehi/post/b171de04-85ea-4206-86be-31a6ab0464a9/image.png\n",
      "[64th] image_url =  https://k.kakaocdn.net/dn/I83Px/btq6oDeO67X/yrstpl0jZQWie3ilw1FyKk/img.png\n",
      "[65th] image_url =  https://k.kakaocdn.net/dn/bfYOSr/btriwH3AVKA/Trz23dw1ukHcv8Gt7kDj6k/img.jpg\n",
      "[66th] image_url =  https://k.kakaocdn.net/dn/mMycE/btrmCBRzl5w/lmMXKrk67cKD8KwgLi25RK/img.png\n",
      "[67th] image_url =  https://k.kakaocdn.net/dn/bXbRA2/btrzzX2pEWK/PE1DZsuKbpO24QGbr9MjsK/img.png\n",
      "[68th] image_url =  https://k.kakaocdn.net/dn/wREHj/btrtHCEeZRe/TXCho5h4OmnQKuUIIK1KLk/img.png\n",
      "[69th] image_url =  https://k.kakaocdn.net/dn/0YKtf/btqIP0KutYN/kGXEy5LsUQ1hPnH8ja22kK/img.png\n",
      "[70th] image_url =  https://k.kakaocdn.net/dn/bICGH6/btryHaJY4zw/DhtbVL9ACDUeujeCN6qdS1/img.png\n",
      "[71th] image_url =  https://k.kakaocdn.net/dn/lIptF/btqRI8yxJDH/GVsLMZlPw23m7iHdihLXF0/img.png\n",
      "[72th] image_url =  https://k.kakaocdn.net/dn/dlnAS5/btrhtVOQmjU/smFvIAHvkTTNVCGJ3gxXa0/img.jpg\n",
      "[73th] image_url =  https://k.kakaocdn.net/dn/prDEi/btrATRNhaoY/FunQQCyRuBwfeXNb0uKzDK/img.png\n",
      "[74th] image_url =  https://k.kakaocdn.net/dn/bDe2z1/btrsrlCEoUR/snAxnhdqghTeWqlWUqWa9k/img.png\n",
      "[75th] image_url =  https://k.kakaocdn.net/dn/GPi4g/btrBo2bEJFi/NbkbxnpeTx7KvkUFzkJ5J0/img.png\n",
      "[76th] image_url =  https://k.kakaocdn.net/dn/dwiP6m/btrqujtvK0r/LoQ4YAEkR4bMtgHFMRbE7k/img.png\n",
      "[77th] image_url =  https://k.kakaocdn.net/dn/1nZt2/btrvhM5bxXk/PVsHl5BiEDi5eIPDPOzXRK/img.png\n",
      "[78th] image_url =  http://postfiles14.naver.net/20110827_173/infernokim_13144066815111CN6t_JPEG/%B8%AE%B4%AA%BD%BA%C0%DA%B0%DD%C1%F5.JPG?type=w3\n"
     ]
    },
    {
     "name": "stdout",
     "output_type": "stream",
     "text": [
      "[79th] image_url =  https://k.kakaocdn.net/dn/mT7dh/btq2h318zYB/Vwy56vTcOesUMSShDxd3k1/img.jpg\n"
     ]
    }
   ],
   "source": [
    "if response.status_code != 200:\n",
    "    print(\"뭔가 잘못됨!\")\n",
    "else:\n",
    "    count = 0\n",
    "    for image_info in response.json()['documents']:\n",
    "        print(f\"[{count}th] image_url = \", image_info['image_url'])\n",
    "        \n",
    "        count = count + 1\n",
    "        file_name = \"test_%d.jpg\" % (count)\n",
    "        \n",
    "        save_image(image_info['image_url'], file_name)"
   ]
  },
  {
   "cell_type": "code",
   "execution_count": null,
   "id": "611d8c84",
   "metadata": {},
   "outputs": [],
   "source": []
  }
 ],
 "metadata": {
  "kernelspec": {
   "display_name": "Python 3",
   "language": "python",
   "name": "python3"
  },
  "language_info": {
   "codemirror_mode": {
    "name": "ipython",
    "version": 3
   },
   "file_extension": ".py",
   "mimetype": "text/x-python",
   "name": "python",
   "nbconvert_exporter": "python",
   "pygments_lexer": "ipython3",
   "version": "3.8.8"
  }
 },
 "nbformat": 4,
 "nbformat_minor": 5
}
